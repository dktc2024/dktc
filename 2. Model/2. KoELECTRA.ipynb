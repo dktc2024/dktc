{
 "cells": [
  {
   "cell_type": "markdown",
   "id": "24723cf3",
   "metadata": {},
   "source": [
    "# Train model\n",
    "\n",
    "1. 일반 vs 비정상 분류 모델\n",
    "2. 비정상 분류 모델\n",
    "\n",
    "#### class\n",
    "```\n",
    "- '일반 대화': 0\n",
    "- '협박 대화': 1\n",
    "- '갈취 대화': 2\n",
    "- '직장 내 괴롭힘 대화': 3\n",
    "- '기타 괴롭힘 대화': 4\n",
    "```\n",
    "\n",
    "#### text\n",
    "- max length: 430\n",
    "- min length: 100\n",
    "- sep: \\n (다른 발화자끼리)\n",
    "\n",
    "\n",
    "#### 모델 리스트\n",
    "- [DistilKoBERT](https://github.com/monologg/DistilKoBERT): pretrained korean embedding 존재하며, bert보다 빠름\n",
    "- [kykim/bert-kor-base](https://teddylee777.github.io/huggingface/bert-kor-text-classification/): BERT 모델\n",
    "- ~~[KcELECTRA: Korean comments ELECTRA](https://github.com/Beomi/KcELECTRA): 적은 용량, 계산 효율 Electra 모델~~\n",
    "  - [tokenizer.json 한글인코딩 이슈](https://huggingface.co/beomi/KcELECTRA-base/discussions/6) 아래와 같은 인코딩 문제가 발생하여, 폐기\n",
    "```py\n",
    "pretrained_model = \"beomi/KcELECTRA-base\"\n",
    "tokenizer = AutoTokenizer.from_pretrained(pretrained_model)\n",
    "tokenizer.tokenize(\"[CLS] 나는 아침을 먹었다 [SEP]\")\n",
    "['[CLS]', 'ĠëĤĺëĬĶ', 'ĠìķĦì¹¨', 'ìĿĦ', 'Ġë¨¹ìĹĪëĭ¤', 'Ġ', '[SEP]']\n",
    "```\n",
    "- [monologg/koelectra-base-v3-discriminator](https://huggingface.co/monologg/koelectra-base-v3-discriminator): 또 다른 electra 모델 선정\n",
    "  \n",
    "  \n",
    "#### Reference\n",
    "\n",
    "1. [Huggingface text classification](https://huggingface.co/docs/transformers/tasks/sequence_classification)\n",
    "2. [KoELECTRA v3](https://github.com/monologg/KoELECTRA/tree/master)\n"
   ]
  },
  {
   "cell_type": "markdown",
   "id": "6aff282a",
   "metadata": {},
   "source": [
    "# 첫번째 모델\n",
    "> 일반 vs 비정상 분류 모델"
   ]
  },
  {
   "cell_type": "code",
   "execution_count": 1,
   "id": "ccbee74a",
   "metadata": {},
   "outputs": [],
   "source": [
    "from tqdm.notebook import tqdm\n",
    "tqdm.pandas()\n",
    "\n",
    "import os\n",
    "import pandas as pd\n",
    "import tensorflow as tf"
   ]
  },
  {
   "cell_type": "code",
   "execution_count": 2,
   "id": "43e883ed",
   "metadata": {},
   "outputs": [
    {
     "data": {
      "text/html": [
       "<div>\n",
       "<style scoped>\n",
       "    .dataframe tbody tr th:only-of-type {\n",
       "        vertical-align: middle;\n",
       "    }\n",
       "\n",
       "    .dataframe tbody tr th {\n",
       "        vertical-align: top;\n",
       "    }\n",
       "\n",
       "    .dataframe thead th {\n",
       "        text-align: right;\n",
       "    }\n",
       "</style>\n",
       "<table border=\"1\" class=\"dataframe\">\n",
       "  <thead>\n",
       "    <tr style=\"text-align: right;\">\n",
       "      <th></th>\n",
       "      <th>class</th>\n",
       "      <th>text</th>\n",
       "    </tr>\n",
       "  </thead>\n",
       "  <tbody>\n",
       "    <tr>\n",
       "      <th>0</th>\n",
       "      <td>1</td>\n",
       "      <td>지금 너 스스로를 죽여달라고 애원하는 것인가? 아닙니다. 죄송합니다. 죽을 거면 혼...</td>\n",
       "    </tr>\n",
       "    <tr>\n",
       "      <th>1</th>\n",
       "      <td>1</td>\n",
       "      <td>길동경찰서입니다. 9시 40분 마트에 폭발물을 설치할거다. 네? 똑바로 들어 한번만...</td>\n",
       "    </tr>\n",
       "    <tr>\n",
       "      <th>2</th>\n",
       "      <td>4</td>\n",
       "      <td>너 되게 귀여운거 알지? 나보다 작은 남자는 첨봤어. 그만해. 니들 놀리는거 재미없...</td>\n",
       "    </tr>\n",
       "    <tr>\n",
       "      <th>3</th>\n",
       "      <td>2</td>\n",
       "      <td>어이 거기 예?? 너 말이야 너. 이리 오라고 무슨 일. 너 옷 좋아보인다? 얘 돈...</td>\n",
       "    </tr>\n",
       "    <tr>\n",
       "      <th>4</th>\n",
       "      <td>3</td>\n",
       "      <td>나 이틀뒤에 가나다 음식점 예약좀 해줘. 저녁7시로. 가나다 음식점이요.? 응. 남...</td>\n",
       "    </tr>\n",
       "  </tbody>\n",
       "</table>\n",
       "</div>"
      ],
      "text/plain": [
       "   class                                               text\n",
       "0      1  지금 너 스스로를 죽여달라고 애원하는 것인가? 아닙니다. 죄송합니다. 죽을 거면 혼...\n",
       "1      1  길동경찰서입니다. 9시 40분 마트에 폭발물을 설치할거다. 네? 똑바로 들어 한번만...\n",
       "2      4  너 되게 귀여운거 알지? 나보다 작은 남자는 첨봤어. 그만해. 니들 놀리는거 재미없...\n",
       "3      2  어이 거기 예?? 너 말이야 너. 이리 오라고 무슨 일. 너 옷 좋아보인다? 얘 돈...\n",
       "4      3  나 이틀뒤에 가나다 음식점 예약좀 해줘. 저녁7시로. 가나다 음식점이요.? 응. 남..."
      ]
     },
     "execution_count": 2,
     "metadata": {},
     "output_type": "execute_result"
    }
   ],
   "source": [
    "df = pd.read_csv(\"./minwook_data.csv\")\n",
    "df.head()"
   ]
  },
  {
   "cell_type": "code",
   "execution_count": 3,
   "id": "3f7b5c89",
   "metadata": {},
   "outputs": [],
   "source": [
    "# 비정상데이터 모두 1로 변환\n",
    "df.loc[df['class'] !=0, 'class'] = 1"
   ]
  },
  {
   "cell_type": "code",
   "execution_count": 27,
   "id": "4e2b925e",
   "metadata": {},
   "outputs": [
    {
     "data": {
      "text/html": [
       "<div>\n",
       "<style scoped>\n",
       "    .dataframe tbody tr th:only-of-type {\n",
       "        vertical-align: middle;\n",
       "    }\n",
       "\n",
       "    .dataframe tbody tr th {\n",
       "        vertical-align: top;\n",
       "    }\n",
       "\n",
       "    .dataframe thead th {\n",
       "        text-align: right;\n",
       "    }\n",
       "</style>\n",
       "<table border=\"1\" class=\"dataframe\">\n",
       "  <thead>\n",
       "    <tr style=\"text-align: right;\">\n",
       "      <th></th>\n",
       "      <th>class</th>\n",
       "      <th>text</th>\n",
       "    </tr>\n",
       "  </thead>\n",
       "  <tbody>\n",
       "    <tr>\n",
       "      <th>74</th>\n",
       "      <td>1</td>\n",
       "      <td>김대리는 어떻게 커피 하나를 못 타나? 네? 죄 죄송합니다. 내가 물을 많이 넣으랬...</td>\n",
       "    </tr>\n",
       "    <tr>\n",
       "      <th>2105</th>\n",
       "      <td>1</td>\n",
       "      <td>지금 이걸 보고서라고 가져 온 거야? 뭐가 문제인지 알려주시면 시정하겠습니다. 뭐가...</td>\n",
       "    </tr>\n",
       "    <tr>\n",
       "      <th>5650</th>\n",
       "      <td>0</td>\n",
       "      <td>어제 인터넷 쇼핑몰에서 옷을 주문했다?\\n어떤 옷 샀는데? 가을 옷? 겨울 옷?\\n...</td>\n",
       "    </tr>\n",
       "    <tr>\n",
       "      <th>1520</th>\n",
       "      <td>1</td>\n",
       "      <td>어이 남 비서! 네 회장님! 무슨 일이십니까? 요새 자네 태도가 너무 마음에 안 들...</td>\n",
       "    </tr>\n",
       "    <tr>\n",
       "      <th>3915</th>\n",
       "      <td>0</td>\n",
       "      <td>캠핑의 계절이당 딱이다 지금\\n지금 비만 안 오면 완전 퍼펙\\n모기도 없어지구 지금...</td>\n",
       "    </tr>\n",
       "    <tr>\n",
       "      <th>264</th>\n",
       "      <td>1</td>\n",
       "      <td>이거 오늘까지 되나? 퇴근전까지 말이야 퇴근까지 20분 남았는데 양이. 안될것같은데...</td>\n",
       "    </tr>\n",
       "    <tr>\n",
       "      <th>2780</th>\n",
       "      <td>1</td>\n",
       "      <td>여기 음식이 왜 이리 맛이 없어요? 손님 죄송합니다.저희가 주방에 말씀드릴게요 나 ...</td>\n",
       "    </tr>\n",
       "    <tr>\n",
       "      <th>6360</th>\n",
       "      <td>0</td>\n",
       "      <td>내가 해군 지원했을 때로 돌아가고 싶다 키키\\n키키 왜요? 좋았습니까?\\n그냥 하사...</td>\n",
       "    </tr>\n",
       "    <tr>\n",
       "      <th>1527</th>\n",
       "      <td>1</td>\n",
       "      <td>못생긴 새끼 그만해 못생긴 새끼 왜 마주칠 때 마다 그래 못생겼으니까 그만해 넌 그...</td>\n",
       "    </tr>\n",
       "    <tr>\n",
       "      <th>1642</th>\n",
       "      <td>1</td>\n",
       "      <td>야 왜 쳐? 나 가만히 있었는데 아니 왜 치냐고 내가 거짓말하는거야? 왜 또 이래?...</td>\n",
       "    </tr>\n",
       "    <tr>\n",
       "      <th>2187</th>\n",
       "      <td>1</td>\n",
       "      <td>운전똑바로해라 진짜 차로 받아버린다. 서로조심합시다 뭘 서로 조심해 너가 조심해야지...</td>\n",
       "    </tr>\n",
       "    <tr>\n",
       "      <th>2203</th>\n",
       "      <td>1</td>\n",
       "      <td>그 여자 누구야 .? 아 그냥 떠돌아다니는 사진이야 만나는 여자 아니지 .? 아 이...</td>\n",
       "    </tr>\n",
       "    <tr>\n",
       "      <th>3476</th>\n",
       "      <td>1</td>\n",
       "      <td>나 어제 너 어디서 봤는줄 알어? 어디서 봤는데? 너 폐지줍고 다니던데 얘들아 얘 ...</td>\n",
       "    </tr>\n",
       "    <tr>\n",
       "      <th>5996</th>\n",
       "      <td>0</td>\n",
       "      <td>엄마 아빠가 뭐 먹고 싶냐고 물어봐\\n엄마 오늘 친구들이랑 밥 먹고 들어가\\n엥? ...</td>\n",
       "    </tr>\n",
       "    <tr>\n",
       "      <th>871</th>\n",
       "      <td>1</td>\n",
       "      <td>아줌마 손에 든거 뭐에요? 장바구니인데요 아니 장바구니인건 아는데 뭐 들었어요? 오...</td>\n",
       "    </tr>\n",
       "  </tbody>\n",
       "</table>\n",
       "</div>"
      ],
      "text/plain": [
       "      class                                               text\n",
       "74        1  김대리는 어떻게 커피 하나를 못 타나? 네? 죄 죄송합니다. 내가 물을 많이 넣으랬...\n",
       "2105      1  지금 이걸 보고서라고 가져 온 거야? 뭐가 문제인지 알려주시면 시정하겠습니다. 뭐가...\n",
       "5650      0  어제 인터넷 쇼핑몰에서 옷을 주문했다?\\n어떤 옷 샀는데? 가을 옷? 겨울 옷?\\n...\n",
       "1520      1  어이 남 비서! 네 회장님! 무슨 일이십니까? 요새 자네 태도가 너무 마음에 안 들...\n",
       "3915      0  캠핑의 계절이당 딱이다 지금\\n지금 비만 안 오면 완전 퍼펙\\n모기도 없어지구 지금...\n",
       "264       1  이거 오늘까지 되나? 퇴근전까지 말이야 퇴근까지 20분 남았는데 양이. 안될것같은데...\n",
       "2780      1  여기 음식이 왜 이리 맛이 없어요? 손님 죄송합니다.저희가 주방에 말씀드릴게요 나 ...\n",
       "6360      0  내가 해군 지원했을 때로 돌아가고 싶다 키키\\n키키 왜요? 좋았습니까?\\n그냥 하사...\n",
       "1527      1  못생긴 새끼 그만해 못생긴 새끼 왜 마주칠 때 마다 그래 못생겼으니까 그만해 넌 그...\n",
       "1642      1  야 왜 쳐? 나 가만히 있었는데 아니 왜 치냐고 내가 거짓말하는거야? 왜 또 이래?...\n",
       "2187      1  운전똑바로해라 진짜 차로 받아버린다. 서로조심합시다 뭘 서로 조심해 너가 조심해야지...\n",
       "2203      1  그 여자 누구야 .? 아 그냥 떠돌아다니는 사진이야 만나는 여자 아니지 .? 아 이...\n",
       "3476      1  나 어제 너 어디서 봤는줄 알어? 어디서 봤는데? 너 폐지줍고 다니던데 얘들아 얘 ...\n",
       "5996      0  엄마 아빠가 뭐 먹고 싶냐고 물어봐\\n엄마 오늘 친구들이랑 밥 먹고 들어가\\n엥? ...\n",
       "871       1  아줌마 손에 든거 뭐에요? 장바구니인데요 아니 장바구니인건 아는데 뭐 들었어요? 오..."
      ]
     },
     "execution_count": 27,
     "metadata": {},
     "output_type": "execute_result"
    }
   ],
   "source": [
    "df.sample(15)"
   ]
  },
  {
   "cell_type": "markdown",
   "id": "92a4ce0c",
   "metadata": {},
   "source": [
    "# Tokenize"
   ]
  },
  {
   "cell_type": "code",
   "execution_count": 4,
   "id": "fe1358b3",
   "metadata": {},
   "outputs": [],
   "source": [
    "from transformers import ElectraTokenizer\n",
    "\n",
    "pretrained_model = \"monologg/koelectra-small-v3-discriminator\"\n",
    "\n",
    "tokenizer = ElectraTokenizer.from_pretrained(pretrained_model)"
   ]
  },
  {
   "cell_type": "code",
   "execution_count": 5,
   "id": "98d6e730",
   "metadata": {
    "scrolled": true
   },
   "outputs": [
    {
     "data": {
      "text/html": [
       "<div>\n",
       "<style scoped>\n",
       "    .dataframe tbody tr th:only-of-type {\n",
       "        vertical-align: middle;\n",
       "    }\n",
       "\n",
       "    .dataframe tbody tr th {\n",
       "        vertical-align: top;\n",
       "    }\n",
       "\n",
       "    .dataframe thead th {\n",
       "        text-align: right;\n",
       "    }\n",
       "</style>\n",
       "<table border=\"1\" class=\"dataframe\">\n",
       "  <thead>\n",
       "    <tr style=\"text-align: right;\">\n",
       "      <th></th>\n",
       "      <th>class</th>\n",
       "      <th>text</th>\n",
       "    </tr>\n",
       "  </thead>\n",
       "  <tbody>\n",
       "    <tr>\n",
       "      <th>1559</th>\n",
       "      <td>1</td>\n",
       "      <td>나 이번달 용돈이 좀 부족하네? 니가 좀 더 줘야겠는데 응? 나도 용돈 다 써서 없...</td>\n",
       "    </tr>\n",
       "    <tr>\n",
       "      <th>1441</th>\n",
       "      <td>1</td>\n",
       "      <td>우리 이제 너랑 안놀거야. 내가 뭐 잘못했어.? 잘못한건가? 너 색맹이라 색깔 구별...</td>\n",
       "    </tr>\n",
       "    <tr>\n",
       "      <th>3722</th>\n",
       "      <td>0</td>\n",
       "      <td>** 지금 커피 시켰음?응 지금 애들이랑 커피숍 와서 시켰어 키키아니 지금 커피 먹...</td>\n",
       "    </tr>\n",
       "  </tbody>\n",
       "</table>\n",
       "</div>"
      ],
      "text/plain": [
       "      class                                               text\n",
       "1559      1  나 이번달 용돈이 좀 부족하네? 니가 좀 더 줘야겠는데 응? 나도 용돈 다 써서 없...\n",
       "1441      1  우리 이제 너랑 안놀거야. 내가 뭐 잘못했어.? 잘못한건가? 너 색맹이라 색깔 구별...\n",
       "3722      0  ** 지금 커피 시켰음?응 지금 애들이랑 커피숍 와서 시켰어 키키아니 지금 커피 먹..."
      ]
     },
     "execution_count": 5,
     "metadata": {},
     "output_type": "execute_result"
    }
   ],
   "source": [
    "# df = df.replace(r'\\\\n', tokenizer.sep_token, regex=True) # [SEP]\n",
    "df = df.replace(r'\\\\n', '', regex=True) # [SEP]\n",
    "assert df['text'].str.contains(r'\\n').any() == False\n",
    "df.sample(3)"
   ]
  },
  {
   "cell_type": "code",
   "execution_count": 6,
   "id": "01679a77",
   "metadata": {},
   "outputs": [
    {
     "data": {
      "text/plain": [
       "'[CLS] 야야 피자 vs 치킨 과연 당신의 선택은? 나는 피자랑 치킨 중에 하나만 고르라면 치킨! 나는 피자가 더 맛있더라 키키아 그래? 나는 뭐랄까 치킨이 땡길 때가 많더라고그치 튀긴 건 원래 다 맛있잖아 키키인정 키키 튀긴 음식은 그냥 다 맛있는 듯너 튀김 중에 족발 튀김이라고 들어 봤어? 그건 뭐야? 처음 들어 본다 그걸 튀겨? 그냥 족발도 맛있는데 그걸 한 번 더 튀겼대오 신기하네 내가 족발을 자주 안 먹어서 그건 몰랐다나도 안 먹긴 한데 키키 그냥 튀김 생각나서 말해 봤어신기하네 키키 그거 바삭하긴 한가? 응 껍질에서 소리 대박이야 키키헐 신기하네 키키 한번 먹어는 보고 싶다응 옆 동네에 새로 생겼다던대 가 볼래? 오케이 콜 족발에 소주 한잔 ㄱㄱ [SEP]'"
      ]
     },
     "execution_count": 6,
     "metadata": {},
     "output_type": "execute_result"
    }
   ],
   "source": [
    "tokenizer.decode(tokenizer.encode(df['text'][5084]))"
   ]
  },
  {
   "cell_type": "code",
   "execution_count": 10,
   "id": "5ee2de02",
   "metadata": {},
   "outputs": [
    {
     "data": {
      "application/vnd.jupyter.widget-view+json": {
       "model_id": "277b6f633cff42bc9ad785dbdf82d5b3",
       "version_major": 2,
       "version_minor": 0
      },
      "text/plain": [
       "  0%|          | 0/7 [00:00<?, ?ba/s]"
      ]
     },
     "metadata": {},
     "output_type": "display_data"
    },
    {
     "name": "stdout",
     "output_type": "stream",
     "text": [
      "UNKNOWN 토큰의 출현 횟수는 총 6820 입니다.\n"
     ]
    }
   ],
   "source": [
    "# # For showing number of UNK\n",
    "# def tokenize(datas):\n",
    "#     return tokenizer(datas[\"text\"], truncation=True)\n",
    "\n",
    "# dataset = Dataset.from_pandas(df)\n",
    "# tokenized_dataset = dataset.map(tokenize, batched=True).to_pandas()\n",
    "\n",
    "# unk_token_encoded = tokenizer.encode(tokenizer.unk_token)[0]\n",
    "\n",
    "# def contains_unk_token(input_ids, unk_token_encoded):\n",
    "#     return unk_token_encoded in input_ids\n",
    "\n",
    "# cnt = tokenized_dataset['input_ids'].apply(lambda x: contains_unk_token(x, unk_token_encoded))\n",
    "# print(f'UNKNOWN 토큰의 출현 횟수는 총 {cnt.sum()} 입니다.')"
   ]
  },
  {
   "cell_type": "code",
   "execution_count": 7,
   "id": "343eb951",
   "metadata": {},
   "outputs": [],
   "source": [
    "def convert_to_input(df, tokenizer, max_length=430):\n",
    "    input_ids = []\n",
    "    attention_masks = []\n",
    "    labels = []\n",
    "\n",
    "    for i in range(len(df)):\n",
    "        sentence = df.iloc[i]['text'].replace('.', '')\n",
    "        encoded = tokenizer.encode_plus(\n",
    "            sentence,\n",
    "            add_special_tokens=True,\n",
    "            max_length=max_length,\n",
    "            padding='max_length',\n",
    "            truncation=True,\n",
    "            return_attention_mask=True,\n",
    "            return_tensors='tf'\n",
    "        )\n",
    "        input_ids.append(encoded['input_ids'])\n",
    "        attention_masks.append(encoded['attention_mask'])\n",
    "        labels.append(df.iloc[i]['class'])\n",
    "\n",
    "    input_ids = tf.concat(input_ids, axis=0)\n",
    "    attention_masks = tf.concat(attention_masks, axis=0)\n",
    "    labels = tf.convert_to_tensor(labels, dtype=tf.int32)\n",
    "\n",
    "    return {\n",
    "        'input_ids': input_ids,\n",
    "        'attention_mask': attention_masks\n",
    "    }, labels\n"
   ]
  },
  {
   "cell_type": "markdown",
   "id": "46c3831a",
   "metadata": {},
   "source": [
    "# Data Split"
   ]
  },
  {
   "cell_type": "code",
   "execution_count": 8,
   "id": "401a1987",
   "metadata": {},
   "outputs": [],
   "source": [
    "from sklearn.model_selection import train_test_split\n",
    "\n",
    "SEED = 1024\n",
    "MAX_LENGTH = 430\n",
    "\n",
    "train_df, test_df = train_test_split(\n",
    "    df, test_size = 0.2, random_state = SEED, stratify=df['class']\n",
    ")\n",
    "train_inputs, train_labels = convert_to_input(train_df, tokenizer, max_length=MAX_LENGTH)\n",
    "test_inputs, test_labels = convert_to_input(test_df, tokenizer, max_length=MAX_LENGTH)\n",
    "train_dataset = tf.data.Dataset.from_tensor_slices((train_inputs, train_labels)).batch(32)\n",
    "test_dataset = tf.data.Dataset.from_tensor_slices((test_inputs, test_labels)).batch(32)\n",
    "\n",
    "# train_texts, val_texts, train_labels, val_labels = train_test_split(\n",
    "#     df['text'], \n",
    "#     df['class'], \n",
    "#     test_size=0.2, \n",
    "#     random_state=SEED, \n",
    "#     stratify=df['class'],\n",
    "# )\n",
    "\n",
    "# use `padding=True` or `padding='longest'` \n",
    "# to pad to the longest sequence in the batch\n",
    "# tokenized_train = tokenizer(\n",
    "#     train_texts.tolist(), \n",
    "#     max_length=MAX_LENGTH, \n",
    "#     truncation=True, \n",
    "#     padding=True\n",
    "# )\n",
    "# tokenized_val = tokenizer(\n",
    "#     val_texts.tolist(), \n",
    "#     max_length=MAX_LENGTH, \n",
    "#     truncation=True, \n",
    "#     padding=True\n",
    "# )"
   ]
  },
  {
   "cell_type": "code",
   "execution_count": 16,
   "id": "2bba60a8",
   "metadata": {},
   "outputs": [
    {
     "data": {
      "text/html": [
       "<div>\n",
       "<style scoped>\n",
       "    .dataframe tbody tr th:only-of-type {\n",
       "        vertical-align: middle;\n",
       "    }\n",
       "\n",
       "    .dataframe tbody tr th {\n",
       "        vertical-align: top;\n",
       "    }\n",
       "\n",
       "    .dataframe thead th {\n",
       "        text-align: right;\n",
       "    }\n",
       "</style>\n",
       "<table border=\"1\" class=\"dataframe\">\n",
       "  <thead>\n",
       "    <tr style=\"text-align: right;\">\n",
       "      <th></th>\n",
       "      <th>class</th>\n",
       "      <th>text</th>\n",
       "    </tr>\n",
       "  </thead>\n",
       "  <tbody>\n",
       "    <tr>\n",
       "      <th>4339</th>\n",
       "      <td>0</td>\n",
       "      <td>오늘 인바디를 했는데 나 마른 비만이래 아빠[SEP]마른 비만이래~? 운동해야겠네 ...</td>\n",
       "    </tr>\n",
       "    <tr>\n",
       "      <th>915</th>\n",
       "      <td>1</td>\n",
       "      <td>너이거 이렇게 하라했어안했어 네? 저번에 선배님이 설명해주신대로 했는데요 장난해? ...</td>\n",
       "    </tr>\n",
       "    <tr>\n",
       "      <th>1832</th>\n",
       "      <td>1</td>\n",
       "      <td>그만 만나자 나 머무 지쳤어 나 미치는 꼴 보고 싶어서 그래? 내가 죽어야 너가 정...</td>\n",
       "    </tr>\n",
       "    <tr>\n",
       "      <th>3973</th>\n",
       "      <td>0</td>\n",
       "      <td>우리 고등학교 단톡방에 애들 다 남자친구 있지?[SEP]헉 그러고 보니 그렇네?[S...</td>\n",
       "    </tr>\n",
       "    <tr>\n",
       "      <th>4066</th>\n",
       "      <td>0</td>\n",
       "      <td>엄마~ 이번 주말에 뭐해[SEP]엄마 이번 주말에 일해 ㅠㅠ[SEP]아 그래? ㅠㅠ...</td>\n",
       "    </tr>\n",
       "  </tbody>\n",
       "</table>\n",
       "</div>"
      ],
      "text/plain": [
       "      class                                               text\n",
       "4339      0  오늘 인바디를 했는데 나 마른 비만이래 아빠[SEP]마른 비만이래~? 운동해야겠네 ...\n",
       "915       1  너이거 이렇게 하라했어안했어 네? 저번에 선배님이 설명해주신대로 했는데요 장난해? ...\n",
       "1832      1  그만 만나자 나 머무 지쳤어 나 미치는 꼴 보고 싶어서 그래? 내가 죽어야 너가 정...\n",
       "3973      0  우리 고등학교 단톡방에 애들 다 남자친구 있지?[SEP]헉 그러고 보니 그렇네?[S...\n",
       "4066      0  엄마~ 이번 주말에 뭐해[SEP]엄마 이번 주말에 일해 ㅠㅠ[SEP]아 그래? ㅠㅠ..."
      ]
     },
     "execution_count": 16,
     "metadata": {},
     "output_type": "execute_result"
    }
   ],
   "source": [
    "test_df.sample(5)"
   ]
  },
  {
   "cell_type": "code",
   "execution_count": 12,
   "id": "9d7db6ee",
   "metadata": {},
   "outputs": [
    {
     "data": {
      "text/plain": [
       "'나 이번에 남자친구랑 여행 가기로했어 ! 갑자기? 싸웠다며 응응 그래서 화해 선물로 여행가기로했지 부럽지 부럽기보다 좀 이건 아닌거같은데? 이번에 싸운것도 너가 너무 피해서 싸운거잖아 음 그렇긴하지 근데 그게 왜 ? 니 남친 너 어떻게 해보려고 여행 가는거아니야? 에이 아니야 나 끝까지 지켜준다했는걸 사람 너무 믿지마 너 그러다 따 먹히고 버림 받는다? 뭐? 무슨 말을. 니 남친 너 대하는거 보면 좋아서 만나는게 아니라 몸보고 만나는거같길래'"
      ]
     },
     "execution_count": 12,
     "metadata": {},
     "output_type": "execute_result"
    }
   ],
   "source": [
    "# train_texts.iloc[0]"
   ]
  },
  {
   "cell_type": "code",
   "execution_count": 11,
   "id": "92d82cc1",
   "metadata": {},
   "outputs": [],
   "source": [
    "# tf.debugging.set_log_device_placement(True) # gpu check"
   ]
  },
  {
   "cell_type": "code",
   "execution_count": 13,
   "id": "559c7dde",
   "metadata": {},
   "outputs": [],
   "source": [
    "# import tensorflow as tf\n",
    "# train_dataset = tf.data.Dataset.from_tensor_slices((\n",
    "#     dict(tokenized_train),\n",
    "#     train_labels\n",
    "# ))\n",
    "\n",
    "\n",
    "# val_dataset = tf.data.Dataset.from_tensor_slices((\n",
    "#     dict(tokenized_val),\n",
    "#     val_labels\n",
    "# ))"
   ]
  },
  {
   "cell_type": "code",
   "execution_count": 13,
   "id": "b423daaa",
   "metadata": {},
   "outputs": [
    {
     "data": {
      "text/plain": [
       "'[CLS] 축구 잘 하낭? [SEP] 어 키키 잘하는 거보다 좋아하는 편이다 [SEP] 키키 축구 하면은 땀 많이 나지 않나? [SEP] 응 키키 근데 재밌다 옛날에 동호회도 했었다 [SEP] 아 축구 동호회? 키키 지금 코로나 때문에 못 하겠넹? [SEP] 어 ㅜ 하고 싶어도 못하고 있다 [SEP] 키키 골키퍼도 해본 적 있나 [SEP] 키키 골키퍼는 내랑 안 맞더라 키키 [SEP] 왜 키키 한 자리에 있으면 되는 거 아니야? [SEP] 내가 골키퍼 하면 공 다 드가더라 키키 [SEP] 그러면 욕 먹는 거 아니야? [SEP] 키키 욕도 먹고 시켜주지도 않더라 [SEP] 키키 맞네 잘 하는 게 아니고 좋아하는 거 [SEP] 어 키키 니도 축구 이런 거 싫어하제? [SEP] 난 축구 한 번도 해본 적 없어 키키 [SEP] 키키 보기는 보나 경기 있을 때 [SEP] [PAD] [PAD] [PAD] [PAD] [PAD] [PAD] [PAD] [PAD] [PAD] [PAD] [PAD] [PAD] [PAD] [PAD] [PAD] [PAD] [PAD] [PAD] [PAD] [PAD] [PAD] [PAD] [PAD] [PAD] [PAD] [PAD] [PAD] [PAD] [PAD] [PAD] [PAD] [PAD] [PAD] [PAD] [PAD] [PAD] [PAD] [PAD] [PAD] [PAD] [PAD] [PAD] [PAD] [PAD] [PAD] [PAD] [PAD] [PAD] [PAD] [PAD] [PAD] [PAD] [PAD] [PAD] [PAD] [PAD] [PAD] [PAD] [PAD] [PAD] [PAD] [PAD] [PAD] [PAD] [PAD]'"
      ]
     },
     "execution_count": 13,
     "metadata": {},
     "output_type": "execute_result"
    }
   ],
   "source": [
    "# arr = list(train_dataset)\n",
    "# tokenizer.decode(arr[15][0]['input_ids'])"
   ]
  },
  {
   "cell_type": "code",
   "execution_count": 8,
   "id": "9f5aaaa8",
   "metadata": {},
   "outputs": [],
   "source": [
    "del train_inputs\n",
    "del test_inputs"
   ]
  },
  {
   "cell_type": "code",
   "execution_count": 9,
   "id": "f1d594d8",
   "metadata": {},
   "outputs": [
    {
     "data": {
      "text/plain": [
       "4"
      ]
     },
     "execution_count": 9,
     "metadata": {},
     "output_type": "execute_result"
    }
   ],
   "source": [
    "import gc\n",
    "gc.collect()"
   ]
  },
  {
   "cell_type": "code",
   "execution_count": 10,
   "id": "6262bf36",
   "metadata": {},
   "outputs": [
    {
     "name": "stdout",
     "output_type": "stream",
     "text": [
      "[name: \"/device:CPU:0\"\n",
      "device_type: \"CPU\"\n",
      "memory_limit: 268435456\n",
      "locality {\n",
      "}\n",
      "incarnation: 10304421906720915525\n",
      ", name: \"/device:GPU:0\"\n",
      "device_type: \"GPU\"\n",
      "memory_limit: 14476378112\n",
      "locality {\n",
      "  bus_id: 1\n",
      "  links {\n",
      "  }\n",
      "}\n",
      "incarnation: 8189435351487551062\n",
      "physical_device_desc: \"device: 0, name: Tesla T4, pci bus id: 0000:00:04.0, compute capability: 7.5\"\n",
      "]\n"
     ]
    }
   ],
   "source": [
    "from tensorflow.python.client import device_lib\n",
    "print(device_lib.list_local_devices())"
   ]
  },
  {
   "cell_type": "markdown",
   "id": "85581676",
   "metadata": {},
   "source": [
    "> NotImplementedError: Saving the model to HDF5 format requires the model to be a Functional model or a Sequential model. It does not work for subclassed models, because such models are defined via the body of a Python method, which isn't safely serializable. Consider saving to the Tensorflow SavedModel format (by setting save_format=\"tf\") or using `save_weights`.\n",
    "\n",
    "\n",
    "    `TFElectraForSequenceClassification` 모델은 subclass형식의 모델이기 때문에, ModelCheckpoint에서 save할때 hdf5로 serialize를 안전하게 할 수 없는 것 같다. 'tf'형식으로 저장 또는 weight만 저장하도록 해줘야하는데, tf형식으로 저장하도록 ModelCheckpoint에 알릴 방법이 없는 것 같아, weight만 저장하도록 했다.\n",
    "\n",
    "```py\n",
    "callback_modelcheckpoint = ModelCheckpoint(\n",
    "    ...\n",
    "    save_weights_only=\"True\"\n",
    ")\n",
    "```\n",
    "\n",
    "## TFElectraForSequenceClassification\n",
    "\n",
    "이 모델의 `num_labels == 1`이면 regression loss로 계산되고(`Mean-Square loss`), `config.num_labels > 1`이면 `Cross-Entropy`로 계산됩니다.\n",
    "\n",
    "> If config.num_labels == 1 a regression loss is computed (Mean-Square loss), If config.num_labels > 1 a classification loss is computed (Cross-Entropy)."
   ]
  },
  {
   "cell_type": "code",
   "execution_count": 10,
   "id": "1f7c2c76",
   "metadata": {},
   "outputs": [
    {
     "name": "stderr",
     "output_type": "stream",
     "text": [
      "Some weights of the PyTorch model were not used when initializing the TF 2.0 model TFElectraForSequenceClassification: ['electra.embeddings.position_ids', 'discriminator_predictions.dense.bias', 'discriminator_predictions.dense_prediction.bias', 'discriminator_predictions.dense_prediction.weight', 'discriminator_predictions.dense.weight']\n",
      "- This IS expected if you are initializing TFElectraForSequenceClassification from a PyTorch model trained on another task or with another architecture (e.g. initializing a TFBertForSequenceClassification model from a BertForPreTraining model).\n",
      "- This IS NOT expected if you are initializing TFElectraForSequenceClassification from a PyTorch model that you expect to be exactly identical (e.g. initializing a TFBertForSequenceClassification model from a BertForSequenceClassification model).\n",
      "Some weights or buffers of the TF 2.0 model TFElectraForSequenceClassification were not initialized from the PyTorch model and are newly initialized: ['classifier.dense.weight', 'classifier.dense.bias', 'classifier.out_proj.weight', 'classifier.out_proj.bias']\n",
      "You should probably TRAIN this model on a down-stream task to be able to use it for predictions and inference.\n"
     ]
    },
    {
     "name": "stdout",
     "output_type": "stream",
     "text": [
      "Epoch 1/10\n",
      "171/171 [==============================] - 142s 736ms/step - loss: 0.4751 - accuracy: 0.7623 - val_loss: 0.2341 - val_accuracy: 0.9934\n",
      "Epoch 2/10\n",
      "171/171 [==============================] - 123s 722ms/step - loss: 0.1484 - accuracy: 0.9969 - val_loss: 0.0689 - val_accuracy: 0.9993\n",
      "Epoch 3/10\n",
      "171/171 [==============================] - 123s 723ms/step - loss: 0.0528 - accuracy: 0.9984 - val_loss: 0.0265 - val_accuracy: 1.0000\n",
      "Epoch 4/10\n",
      "171/171 [==============================] - 123s 722ms/step - loss: 0.0232 - accuracy: 0.9995 - val_loss: 0.0140 - val_accuracy: 0.9993\n"
     ]
    }
   ],
   "source": [
    "import re\n",
    "from sklearn.preprocessing import LabelEncoder\n",
    "from transformers import TFElectraForSequenceClassification\n",
    "from tensorflow.keras.callbacks import EarlyStopping, ModelCheckpoint\n",
    "\n",
    "\n",
    "MODEL_NAME = 'KoELECTRA_v3_small_binary'\n",
    "MODEL_CHECK_POINT_PATH = f\"{MODEL_NAME}.weights.h5\"\n",
    "MODEL_SAVE_PATH = os.path.join(\"_model\", MODEL_NAME)\n",
    "\n",
    "\n",
    "callback_earlystopping = EarlyStopping(\n",
    "    monitor=\"val_accuracy\", min_delta=0.001, patience=2\n",
    ")\n",
    "# lr 조절\n",
    "callback_learningrate_scheduler = tf.keras.callbacks.ReduceLROnPlateau(\n",
    "    monitor=\"val_accuracy\",\n",
    "    factor=0.1,\n",
    "    patience=10,\n",
    "    verbose=0,\n",
    "    mode=\"auto\",\n",
    "    min_delta=0.0001,\n",
    "    cooldown=0,\n",
    "    min_lr=0,\n",
    ")\n",
    "\n",
    "callback_modelcheckpoint = ModelCheckpoint(\n",
    "    filepath=MODEL_CHECK_POINT_PATH,\n",
    "    monitor=\"val_accuracy\",\n",
    "    save_best_only=True,\n",
    "    save_weights_only=\"True\"\n",
    ")\n",
    "callbacks = [\n",
    "    callback_earlystopping,\n",
    "#     callback_learningrate_scheduler,\n",
    "    callback_modelcheckpoint,\n",
    "]\n",
    "\n",
    "EPOCHS = 10\n",
    "LABELS = [0,1]\n",
    "le = LabelEncoder()\n",
    "le.fit(LABELS) # class\n",
    "\n",
    "# /device:GPU:0\n",
    "with tf.device('/device:GPU:0'):\n",
    "    model = TFElectraForSequenceClassification.from_pretrained(\n",
    "        pretrained_model,\n",
    "        # num_labels=len(LABELS), # TODO\n",
    "        num_labels=1,\n",
    "        from_pt=True,  # Load from PyTorch checkpoint\n",
    "    )\n",
    "#     id2labels = model.config.id2label\n",
    "#     model.config.id2label = {id : le.inverse_transform([int(re.sub('LABEL_', '', label))])[0]  for id, label in id2labels.items()}\n",
    "#     label2ids = model.config.label2id\n",
    "#     model.config.label2id = {le.inverse_transform([int(re.sub('LABEL_', '', label))])[0] : id   for id, label in id2labels.items()}\n",
    "    \n",
    "#     input_ids = tf.keras.layers.Input(shape=(max_sequence_length,), dtype=tf.int32, name='input_ids')\n",
    "#     attention_mask = tf.keras.layers.Input((max_sequence_length,), dtype=tf.int32, name='attention_mask')\n",
    "\n",
    "    \n",
    "    optimizer = tf.keras.optimizers.Adam(learning_rate=2e-5)\n",
    "    model.compile(\n",
    "        optimizer=optimizer, \n",
    "        # loss=model.compute_loss, \n",
    "        loss=tf.keras.losses.BinaryCrossentropy(from_logits=True),\n",
    "        metrics=['accuracy']\n",
    "    )\n",
    "    history = model.fit(\n",
    "        train_dataset, \n",
    "        epochs=EPOCHS, \n",
    "        validation_data=test_dataset,\n",
    "        callbacks = callbacks,\n",
    "    )"
   ]
  },
  {
   "cell_type": "code",
   "execution_count": 11,
   "id": "201d46f3",
   "metadata": {},
   "outputs": [
    {
     "name": "stdout",
     "output_type": "stream",
     "text": [
      "_model/KoELECTRA_v3_small_binary -- Folder already exists \n",
      "\n"
     ]
    },
    {
     "data": {
      "text/plain": [
       "('_model/KoELECTRA_v3_small_binary/tokenizer_config.json',\n",
       " '_model/KoELECTRA_v3_small_binary/special_tokens_map.json',\n",
       " '_model/KoELECTRA_v3_small_binary/vocab.txt',\n",
       " '_model/KoELECTRA_v3_small_binary/added_tokens.json')"
      ]
     },
     "execution_count": 11,
     "metadata": {},
     "output_type": "execute_result"
    }
   ],
   "source": [
    "if os.path.exists(MODEL_SAVE_PATH):\n",
    "    print(f\"{MODEL_SAVE_PATH} -- Folder already exists \\n\")\n",
    "else:\n",
    "    os.makedirs(MODEL_SAVE_PATH, exist_ok=True)\n",
    "    print(f\"{MODEL_SAVE_PATH} -- Folder create complete \\n\")\n",
    "\n",
    "# save tokenizer, model\n",
    "model.save_pretrained(MODEL_SAVE_PATH)\n",
    "tokenizer.save_pretrained(MODEL_SAVE_PATH)"
   ]
  },
  {
   "cell_type": "code",
   "execution_count": 12,
   "id": "0b7606e0",
   "metadata": {},
   "outputs": [
    {
     "data": {
      "image/png": "[encoded data removed]",
      "text/plain": [
       "<Figure size 864x432 with 2 Axes>"
      ]
     },
     "metadata": {
      "needs_background": "light"
     },
     "output_type": "display_data"
    }
   ],
   "source": [
    "import matplotlib.pyplot as plt\n",
    "import seaborn as sns\n",
    "\n",
    "# 학습 기록 추출\n",
    "\n",
    "history_dict = history.history\n",
    "loss = history_dict['loss']\n",
    "val_loss = history_dict['val_loss']\n",
    "accuracy = history_dict['accuracy']\n",
    "val_accuracy = history_dict['val_accuracy']\n",
    "\n",
    "epochs = range(1, len(loss) + 1)\n",
    "\n",
    "# 손실 시각화\n",
    "plt.figure(figsize=(12, 6))\n",
    "\n",
    "plt.subplot(1, 2, 1)\n",
    "sns.lineplot(x=epochs, y=loss, label='Training Loss')\n",
    "sns.lineplot(x=epochs, y=val_loss, label='Validation Loss')\n",
    "plt.xlabel('Epochs')\n",
    "plt.ylabel('Loss')\n",
    "plt.title('Training and Validation Loss')\n",
    "plt.legend()\n",
    "\n",
    "# 정확도 시각화\n",
    "plt.subplot(1, 2, 2)\n",
    "sns.lineplot(x=epochs, y=accuracy, label='Training Accuracy')\n",
    "sns.lineplot(x=epochs, y=val_accuracy, label='Validation Accuracy')\n",
    "plt.xlabel('Epochs')\n",
    "plt.ylabel('Accuracy')\n",
    "plt.title('Training and Validation Accuracy')\n",
    "plt.legend()\n",
    "\n",
    "plt.tight_layout()\n",
    "plt.show()"
   ]
  },
  {
   "cell_type": "code",
   "execution_count": 23,
   "id": "9f7cb6b9",
   "metadata": {},
   "outputs": [
    {
     "name": "stderr",
     "output_type": "stream",
     "text": [
      "All model checkpoint layers were used when initializing TFElectraForSequenceClassification.\n",
      "\n",
      "All the layers of TFElectraForSequenceClassification were initialized from the model checkpoint at _model/KoELECTRA_v3_small_binary.\n",
      "If your task is similar to the task the model of the checkpoint was trained on, you can already use TFElectraForSequenceClassification for predictions without further training.\n"
     ]
    },
    {
     "name": "stdout",
     "output_type": "stream",
     "text": [
      "[1]\n",
      "[1]\n",
      "[1]\n",
      "[1]\n",
      "[1]\n",
      "[1]\n",
      "[1]\n",
      "[1]\n",
      "[1]\n",
      "[1]\n",
      "[1]\n",
      "[1]\n",
      "[1]\n",
      "[1]\n",
      "[1]\n",
      "[1]\n",
      "[1]\n",
      "[1]\n",
      "[1]\n",
      "[1]\n",
      "[1]\n",
      "[1]\n",
      "[1]\n",
      "[1]\n",
      "[1]\n",
      "[1]\n",
      "[1]\n",
      "[1]\n",
      "[1]\n",
      "[1]\n",
      "[1]\n",
      "[1]\n",
      "[1]\n",
      "[1]\n",
      "[1]\n",
      "[1]\n",
      "[1]\n",
      "[1]\n",
      "[1]\n",
      "[1]\n",
      "[1]\n",
      "[1]\n",
      "[1]\n",
      "[1]\n",
      "[1]\n",
      "[1]\n",
      "[1]\n",
      "[1]\n",
      "[1]\n",
      "[1]\n",
      "[1]\n",
      "[1]\n",
      "[1]\n",
      "[1]\n",
      "[1]\n",
      "[1]\n",
      "[1]\n",
      "[1]\n",
      "[1]\n",
      "[1]\n",
      "[1]\n",
      "[1]\n",
      "[1]\n",
      "[1]\n",
      "[1]\n",
      "[1]\n",
      "[1]\n",
      "[1]\n",
      "[1]\n",
      "[1]\n",
      "[1]\n",
      "[1]\n",
      "[1]\n",
      "[1]\n",
      "[1]\n",
      "[1]\n",
      "[1]\n",
      "[1]\n",
      "[1]\n",
      "[1]\n",
      "[1]\n",
      "[1]\n",
      "[1]\n",
      "[1]\n",
      "[1]\n",
      "[1]\n",
      "[1]\n",
      "[1]\n",
      "[1]\n",
      "[1]\n",
      "[1]\n",
      "[1]\n",
      "[1]\n",
      "[1]\n",
      "[1]\n",
      "[1]\n",
      "[1]\n",
      "[1]\n",
      "[1]\n",
      "[1]\n"
     ]
    }
   ],
   "source": [
    "from transformers import AutoTokenizer, TFElectraForSequenceClassification\n",
    "\n",
    "loaded_tokenizer = AutoTokenizer.from_pretrained(MODEL_SAVE_PATH)\n",
    "loaded_model = TFElectraForSequenceClassification.from_pretrained(MODEL_SAVE_PATH)\n",
    "\n",
    "\n",
    "def evaluate(text: str, verbose=True):\n",
    "    inputs = tokenizer(text, return_tensors=\"tf\")\n",
    "    logits = loaded_model(**inputs).logits\n",
    "    probabilities = tf.nn.sigmoid(logits)\n",
    "    # Apply threshold of 0.5 for binary classification\n",
    "    class_id = tf.where(probabilities > 0.5, 1, 0).numpy()[0]\n",
    "    return class_id\n",
    "\n",
    "normal = df[df['class']==0].sample(10)\n",
    "for _, row in normal.iterrows():\n",
    "    print(evaluate(row['text']))"
   ]
  },
  {
   "cell_type": "code",
   "execution_count": 27,
   "id": "2908283c",
   "metadata": {},
   "outputs": [
    {
     "name": "stdout",
     "output_type": "stream",
     "text": [
      "[1]\n",
      "[1]\n",
      "[0]\n"
     ]
    }
   ],
   "source": [
    "최익현 = \"\"\"\n",
    "후임 형사 :(익현의 머리를 때리며) 이 새끼가 뭘 잘했다고, 앉아 마!\n",
    "(곧바로 수갑찬 손으로 반격하며)씨빨놈이! 쳐 돌았나? 어데서 손을 함부로 놀리노? 느그 서장 어딨어! 강서장 델꼬와!! 니 내 누군줄 아나? 내가 이 새꺄! 느그 서장이랑 마! 개섀끼..\n",
    "(선임 형사) :(급하게 달려오며) 저 서..선생님.. 실례지만 저희 서장님과 관계가 어떻게..\n",
    "느그 서장 남천동 살제? 어?\n",
    "(선임 형사) : 예.. 예..\n",
    "내가 마! 느그 서장이랑 마! 어저께도! 어? 밥 묵고! 어? 사우나도 같이 가고! 어? 마 이 개이새꺄 마 다 했어! 이 새끼들이 말이야. 개섀끼들..\n",
    "\"\"\"\n",
    "print(evaluate(최익현))\n",
    "\n",
    "평경장 = \"\"\"\n",
    "평 경장: 기니까 네 말은 이게 9란 말이지?\n",
    "고니: 네.\n",
    "평 경장: 장땡이네?[5]\n",
    "고니: 아니, 선생님... 그 손?\n",
    "평 경장: 손이 왜?\n",
    "고니: 어떻게 하신 겁니까?\n",
    "평 경장: 손은 눈보다 빠르다! 무슨 패를 잡고 싶니?\n",
    "고니: 일... 일땡이요.\n",
    "평 경장: 아수라발발타... 아수라발발타![6]\n",
    "평 경장: 돈을 벌고 싶니?\n",
    "고니: 예.\n",
    "평 경장: 부자가 되고 싶니?\n",
    "고니: 예.\n",
    "평 경장: 이거이 니 정주영이고 이병철이야!\n",
    "\"\"\"\n",
    "\n",
    "print(evaluate(평경장))\n",
    "\n",
    "일반글 = \"\"\"\n",
    "흔한 커플의 카톡 대화 을 클릭해보았다.이게 웬걸 ㅋㅋ 웃기다 ㅋㅋ \n",
    "\n",
    "흔한 커플의 대화긴 하다.ㅋㅋ 흔한 커플의 카톡 대화 에서 보듯 ㅋㅋ 사귀다보면 ㅋㅋ 문자도 짧아진다 ㅋ\n",
    "\n",
    "사랑한다는 말또한 줄어든다.ㅋㅋ 그건 당연한것이 아닌가?ㅋㅋ 저는 ㅋㅋ 그런말 하지도 않습니다.ㅋ\n",
    "\n",
    "사랑은 하는데 ㅋㅋ 그런말을 못하겠더라구요 ㅋ 그래서 여자친구가 ㅋㅋ 좀 뭐라고 하지요.ㅋ\n",
    "\n",
    "일반 커플도 다 그렇지 않나요??ㅋㅋ 사귀다 결혼해도 사귈때랑 같고. ㅋㅋ\n",
    "\n",
    "그냥 그런게 사람 사는거 아니겠습니까??ㅋㅋㅋ 흔한 커플의 카톡 대화 에서 보니 ㅋㅋ\n",
    "\n",
    "저 같은 사람 많더라구요.ㅎㅎ 그럼 한번 알아볼까요??ㅎㅎ\n",
    "\n",
    "그리고 ㅋㅋ 한번 본인의 상태도 점검해 보시길 바랍니다.ㅋㅋ\n",
    "\"\"\"\n",
    "print(evaluate(일반글))"
   ]
  },
  {
   "cell_type": "markdown",
   "id": "e532217b",
   "metadata": {},
   "source": [
    "# 회고\n",
    "\n",
    "1. \n",
    "2. 차이점을 알기 위해서 bert-kor-base를 먼저 실행해보자"
   ]
  },
  {
   "cell_type": "code",
   "execution_count": null,
   "id": "9dcba6f4",
   "metadata": {},
   "outputs": [],
   "source": []
  }
 ],
 "metadata": {
  "kernelspec": {
   "display_name": "Python 3 (ipykernel)",
   "language": "python",
   "name": "python3"
  },
  "language_info": {
   "codemirror_mode": {
    "name": "ipython",
    "version": 3
   },
   "file_extension": ".py",
   "mimetype": "text/x-python",
   "name": "python",
   "nbconvert_exporter": "python",
   "pygments_lexer": "ipython3",
   "version": "3.9.7"
  }
 },
 "nbformat": 4,
 "nbformat_minor": 5
}
