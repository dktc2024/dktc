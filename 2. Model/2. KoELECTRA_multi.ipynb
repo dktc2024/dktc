{
 "cells": [
  {
   "cell_type": "code",
   "execution_count": 1,
   "id": "5e908aeb",
   "metadata": {},
   "outputs": [],
   "source": [
    "from tqdm.notebook import tqdm\n",
    "tqdm.pandas()\n",
    "import os\n",
    "import pandas as pd\n",
    "import tensorflow as tf"
   ]
  },
  {
   "cell_type": "code",
   "execution_count": 2,
   "id": "619ed5ce",
   "metadata": {},
   "outputs": [
    {
     "data": {
      "text/html": [
       "<div>\n",
       "<style scoped>\n",
       "    .dataframe tbody tr th:only-of-type {\n",
       "        vertical-align: middle;\n",
       "    }\n",
       "\n",
       "    .dataframe tbody tr th {\n",
       "        vertical-align: top;\n",
       "    }\n",
       "\n",
       "    .dataframe thead th {\n",
       "        text-align: right;\n",
       "    }\n",
       "</style>\n",
       "<table border=\"1\" class=\"dataframe\">\n",
       "  <thead>\n",
       "    <tr style=\"text-align: right;\">\n",
       "      <th></th>\n",
       "      <th>class</th>\n",
       "      <th>text</th>\n",
       "    </tr>\n",
       "  </thead>\n",
       "  <tbody>\n",
       "    <tr>\n",
       "      <th>1463</th>\n",
       "      <td>1</td>\n",
       "      <td>니네집 등산복 집한다며? 시내에서 크게? 아응 돈을 아주 쓸어담는다더라? 그정도는 ...</td>\n",
       "    </tr>\n",
       "    <tr>\n",
       "      <th>624</th>\n",
       "      <td>3</td>\n",
       "      <td>당신만 아니었으면 얘도 더 잘 됐어. 그래. 무능한 아빠면 자상하기라도 했어야지. ...</td>\n",
       "    </tr>\n",
       "    <tr>\n",
       "      <th>759</th>\n",
       "      <td>1</td>\n",
       "      <td>어이 동생 잘 지냈어? 요즘 알바 한다며? 응응 맥도날드에서 알바 시작했어. 근데 ...</td>\n",
       "    </tr>\n",
       "    <tr>\n",
       "      <th>1440</th>\n",
       "      <td>0</td>\n",
       "      <td>너 이 자식 죽일 테다 아버지 살려주세요 감히 아버지를 속여? 제발 한 번만 봐주세...</td>\n",
       "    </tr>\n",
       "    <tr>\n",
       "      <th>1719</th>\n",
       "      <td>3</td>\n",
       "      <td>너 엄마 없어? 아.응. 왜 ? 뭐때문에 .? 아빠가. 술 좋아하셔서 . 아? 술?...</td>\n",
       "    </tr>\n",
       "    <tr>\n",
       "      <th>3025</th>\n",
       "      <td>1</td>\n",
       "      <td>가진 거 다 내놔 뭐래는거야 이 사람이 지금 내말 안들으면 후회할텐데 왜 그러세요 ...</td>\n",
       "    </tr>\n",
       "    <tr>\n",
       "      <th>3063</th>\n",
       "      <td>0</td>\n",
       "      <td>야 1반 찐따 왜 불러. 니네 누나는 너랑 다르게 찐따는 아니더라 반대던데? 어.어...</td>\n",
       "    </tr>\n",
       "    <tr>\n",
       "      <th>156</th>\n",
       "      <td>1</td>\n",
       "      <td>우와 이거 예쁘다. 머야 이거? 이거 입생로랑 지갑이야. 엄청 비싼건데 예쁘다. 영...</td>\n",
       "    </tr>\n",
       "    <tr>\n",
       "      <th>2415</th>\n",
       "      <td>1</td>\n",
       "      <td>어머니 저 진짜 돈 없어요 애미야 좋은 계가 하나 있다니까? 이돈은 가지고있다가 둘...</td>\n",
       "    </tr>\n",
       "    <tr>\n",
       "      <th>2040</th>\n",
       "      <td>0</td>\n",
       "      <td>저새끼는 왜 말도 안듣고 시키는것도 안하지? 그러게 말이야 한대 맞아야 정신차리려나...</td>\n",
       "    </tr>\n",
       "  </tbody>\n",
       "</table>\n",
       "</div>"
      ],
      "text/plain": [
       "      class                                               text\n",
       "1463      1  니네집 등산복 집한다며? 시내에서 크게? 아응 돈을 아주 쓸어담는다더라? 그정도는 ...\n",
       "624       3  당신만 아니었으면 얘도 더 잘 됐어. 그래. 무능한 아빠면 자상하기라도 했어야지. ...\n",
       "759       1  어이 동생 잘 지냈어? 요즘 알바 한다며? 응응 맥도날드에서 알바 시작했어. 근데 ...\n",
       "1440      0  너 이 자식 죽일 테다 아버지 살려주세요 감히 아버지를 속여? 제발 한 번만 봐주세...\n",
       "1719      3  너 엄마 없어? 아.응. 왜 ? 뭐때문에 .? 아빠가. 술 좋아하셔서 . 아? 술?...\n",
       "3025      1  가진 거 다 내놔 뭐래는거야 이 사람이 지금 내말 안들으면 후회할텐데 왜 그러세요 ...\n",
       "3063      0  야 1반 찐따 왜 불러. 니네 누나는 너랑 다르게 찐따는 아니더라 반대던데? 어.어...\n",
       "156       1  우와 이거 예쁘다. 머야 이거? 이거 입생로랑 지갑이야. 엄청 비싼건데 예쁘다. 영...\n",
       "2415      1  어머니 저 진짜 돈 없어요 애미야 좋은 계가 하나 있다니까? 이돈은 가지고있다가 둘...\n",
       "2040      0  저새끼는 왜 말도 안듣고 시키는것도 안하지? 그러게 말이야 한대 맞아야 정신차리려나..."
      ]
     },
     "execution_count": 2,
     "metadata": {},
     "output_type": "execute_result"
    }
   ],
   "source": [
    "df = pd.read_csv(\"./minwook_data.csv\")\n",
    "df = df.loc[df['class'] != 0]\n",
    "df['class'] -= 1\n",
    "df.sample(10)"
   ]
  },
  {
   "cell_type": "code",
   "execution_count": 3,
   "id": "27a83b47",
   "metadata": {},
   "outputs": [
    {
     "data": {
      "text/plain": [
       "'[CLS] 여기 음식이 왜이러죠 음식이 뭐가 문제인가요 손님 음식 맛이 이상하잖아요 저희는 메뉴얼대로 만들어서 손님 입맛에 안맞을수는 있습니다. 아 저는 한숟가락 밖에 안먹었으니 환불해주세요 손님 음식은 제대로 나왔기때문에 환불은 힘들거같습니다. 아니 한숟갈만 먹었는데 돈을 다내라고요? 네 손님 저희메뉴얼상 환불은 힘들거같습니다. 아니 뭐 이런 가게가 다있어. 여기 점장불러와 손님 죄송합니다 잠시만기다려주세요 [SEP]'"
      ]
     },
     "execution_count": 3,
     "metadata": {},
     "output_type": "execute_result"
    }
   ],
   "source": [
    "from transformers import ElectraTokenizer\n",
    "\n",
    "pretrained_model = \"monologg/koelectra-small-v3-discriminator\"\n",
    "tokenizer = ElectraTokenizer.from_pretrained(pretrained_model)\n",
    "\n",
    "df = df.replace(r'\\\\n', '', regex=True) # Delete [SEP]\n",
    "assert df['text'].str.contains(r'\\n').any() == False\n",
    "tokenizer.decode(tokenizer.encode(df['text'][1090]))"
   ]
  },
  {
   "cell_type": "code",
   "execution_count": 4,
   "id": "9cf35385",
   "metadata": {},
   "outputs": [],
   "source": [
    "def convert_to_input(df, tokenizer, max_length=430):\n",
    "    input_ids = []\n",
    "    attention_masks = []\n",
    "    labels = []\n",
    "\n",
    "    for i in range(len(df)):\n",
    "        sentence = df.iloc[i]['text'].replace('.', '')\n",
    "        encoded = tokenizer.encode_plus(\n",
    "            sentence,\n",
    "            add_special_tokens=True,\n",
    "            max_length=max_length,\n",
    "            padding='max_length',\n",
    "            truncation=True,\n",
    "            return_attention_mask=True,\n",
    "            return_tensors='tf'\n",
    "        )\n",
    "        input_ids.append(encoded['input_ids'])\n",
    "        attention_masks.append(encoded['attention_mask'])\n",
    "        labels.append(df.iloc[i]['class'])\n",
    "\n",
    "    input_ids = tf.concat(input_ids, axis=0)\n",
    "    attention_masks = tf.concat(attention_masks, axis=0)\n",
    "    labels = tf.convert_to_tensor(labels, dtype=tf.int32)\n",
    "\n",
    "    return {\n",
    "        'input_ids': input_ids,\n",
    "        'attention_mask': attention_masks\n",
    "    }, labels\n"
   ]
  },
  {
   "cell_type": "code",
   "execution_count": 5,
   "id": "4aac79ac",
   "metadata": {},
   "outputs": [],
   "source": [
    "from sklearn.model_selection import train_test_split\n",
    "\n",
    "SEED = 1024\n",
    "MAX_LENGTH = 400\n",
    "BATCH_SIZE = 16\n",
    "\n",
    "train_df, test_df = train_test_split(\n",
    "    df, test_size = 0.2, random_state = SEED, stratify=df['class']\n",
    ")\n",
    "train_inputs, train_labels = convert_to_input(train_df, tokenizer, max_length=MAX_LENGTH)\n",
    "test_inputs, test_labels = convert_to_input(test_df, tokenizer, max_length=MAX_LENGTH)\n",
    "train_dataset = tf.data.Dataset.from_tensor_slices((train_inputs, train_labels)).batch(BATCH_SIZE)\n",
    "test_dataset = tf.data.Dataset.from_tensor_slices((test_inputs, test_labels)).batch(BATCH_SIZE)"
   ]
  },
  {
   "cell_type": "code",
   "execution_count": 6,
   "id": "77ff5752",
   "metadata": {},
   "outputs": [
    {
     "name": "stderr",
     "output_type": "stream",
     "text": [
      "Some weights of the PyTorch model were not used when initializing the TF 2.0 model TFElectraForSequenceClassification: ['discriminator_predictions.dense.weight', 'electra.embeddings.position_ids', 'discriminator_predictions.dense_prediction.bias', 'discriminator_predictions.dense.bias', 'discriminator_predictions.dense_prediction.weight']\n",
      "- This IS expected if you are initializing TFElectraForSequenceClassification from a PyTorch model trained on another task or with another architecture (e.g. initializing a TFBertForSequenceClassification model from a BertForPreTraining model).\n",
      "- This IS NOT expected if you are initializing TFElectraForSequenceClassification from a PyTorch model that you expect to be exactly identical (e.g. initializing a TFBertForSequenceClassification model from a BertForSequenceClassification model).\n",
      "Some weights or buffers of the TF 2.0 model TFElectraForSequenceClassification were not initialized from the PyTorch model and are newly initialized: ['classifier.dense.weight', 'classifier.dense.bias', 'classifier.out_proj.weight', 'classifier.out_proj.bias']\n",
      "You should probably TRAIN this model on a down-stream task to be able to use it for predictions and inference.\n"
     ]
    },
    {
     "name": "stdout",
     "output_type": "stream",
     "text": [
      "Epoch 1/50\n",
      "177/177 [==============================] - 79s 355ms/step - loss: 1.3827 - accuracy: 0.3102 - val_loss: 1.3650 - val_accuracy: 0.4646\n",
      "Epoch 2/50\n",
      "177/177 [==============================] - 61s 344ms/step - loss: 1.2422 - accuracy: 0.6274 - val_loss: 1.1117 - val_accuracy: 0.6671\n",
      "Epoch 3/50\n",
      "177/177 [==============================] - 61s 344ms/step - loss: 1.0024 - accuracy: 0.7756 - val_loss: 0.8653 - val_accuracy: 0.8314\n",
      "Epoch 4/50\n",
      "177/177 [==============================] - 61s 343ms/step - loss: 0.7927 - accuracy: 0.8454 - val_loss: 0.6693 - val_accuracy: 0.8654\n",
      "Epoch 5/50\n",
      "177/177 [==============================] - 61s 343ms/step - loss: 0.6167 - accuracy: 0.8745 - val_loss: 0.5568 - val_accuracy: 0.8569\n",
      "Epoch 6/50\n",
      "177/177 [==============================] - 61s 344ms/step - loss: 0.4903 - accuracy: 0.8908 - val_loss: 0.4807 - val_accuracy: 0.8683\n",
      "Epoch 7/50\n",
      "177/177 [==============================] - 61s 344ms/step - loss: 0.4102 - accuracy: 0.8997 - val_loss: 0.4685 - val_accuracy: 0.8569\n",
      "Epoch 8/50\n",
      "177/177 [==============================] - 61s 343ms/step - loss: 0.3395 - accuracy: 0.9185 - val_loss: 0.4508 - val_accuracy: 0.8569\n"
     ]
    }
   ],
   "source": [
    "import re\n",
    "from sklearn.preprocessing import LabelEncoder\n",
    "from transformers import TFElectraForSequenceClassification\n",
    "from tensorflow.keras.callbacks import EarlyStopping, ModelCheckpoint\n",
    "\n",
    "\n",
    "MODEL_NAME = 'KoELECTRA_v3_small_multi'\n",
    "MODEL_CHECK_POINT_PATH = f\"{MODEL_NAME}.weights.h5\"\n",
    "MODEL_SAVE_PATH = os.path.join(\"_model\", MODEL_NAME)\n",
    "\n",
    "\n",
    "callback_earlystopping = EarlyStopping(\n",
    "    monitor=\"val_accuracy\", min_delta=0.001, patience=2\n",
    ")\n",
    "\n",
    "# lr 조절\n",
    "callback_learningrate_scheduler = tf.keras.callbacks.ReduceLROnPlateau(\n",
    "    monitor=\"val_loss\",\n",
    "    factor=0.1,\n",
    "    patience=5,\n",
    "    verbose=0,\n",
    "    mode=\"auto\",\n",
    "    min_delta=0.0001,\n",
    "    cooldown=0,\n",
    "    min_lr=1e-6,\n",
    ")\n",
    "\n",
    "\n",
    "callback_modelcheckpoint = ModelCheckpoint(\n",
    "    filepath=MODEL_CHECK_POINT_PATH,\n",
    "    monitor=\"val_accuracy\",\n",
    "    save_best_only=True,\n",
    "    save_weights_only=\"True\"\n",
    ")\n",
    "callbacks = [\n",
    "    callback_earlystopping,\n",
    "    callback_learningrate_scheduler,\n",
    "    callback_modelcheckpoint,\n",
    "]\n",
    "\n",
    "EPOCHS = 50\n",
    "# label index를 0부터 시작해주니까 문제 없이 처리됨, 이전에는 loss nan이 계속 나옴\n",
    "label2id = {\n",
    "    '협박 대화': 0,\n",
    "    '갈취 대화': 1,\n",
    "    '직장 내 괴롭힘 대화': 2,\n",
    "    '기타 괴롭힘 대화': 3,\n",
    "}\n",
    "id2label = {v:k for k, v in label2id.items()}\n",
    "\n",
    "# /device:GPU:0\n",
    "with tf.device('/device:GPU:0'):\n",
    "    model = TFElectraForSequenceClassification.from_pretrained(\n",
    "        pretrained_model,\n",
    "        num_labels=4,\n",
    "        id2label=id2label, \n",
    "        label2id=label2id,\n",
    "        from_pt=True,  # Load from PyTorch checkpoint\n",
    "    )\n",
    "\n",
    "    optimizer = tf.keras.optimizers.Adam(learning_rate=1e-5)\n",
    "    model.compile(\n",
    "        optimizer=optimizer, \n",
    "        loss=tf.keras.losses.SparseCategoricalCrossentropy(from_logits=True), \n",
    "        metrics=['accuracy']\n",
    "    )\n",
    "    history = model.fit(\n",
    "        train_dataset, \n",
    "        epochs=EPOCHS, \n",
    "        validation_data=test_dataset,\n",
    "        callbacks = callbacks,\n",
    "    )"
   ]
  },
  {
   "cell_type": "code",
   "execution_count": 7,
   "id": "96a6696d",
   "metadata": {},
   "outputs": [
    {
     "name": "stdout",
     "output_type": "stream",
     "text": [
      "_model/KoELECTRA_v3_small_multi -- Folder already exists \n",
      "\n"
     ]
    },
    {
     "data": {
      "text/plain": [
       "('_model/KoELECTRA_v3_small_multi/tokenizer_config.json',\n",
       " '_model/KoELECTRA_v3_small_multi/special_tokens_map.json',\n",
       " '_model/KoELECTRA_v3_small_multi/vocab.txt',\n",
       " '_model/KoELECTRA_v3_small_multi/added_tokens.json')"
      ]
     },
     "execution_count": 7,
     "metadata": {},
     "output_type": "execute_result"
    }
   ],
   "source": [
    "if os.path.exists(MODEL_SAVE_PATH):\n",
    "    print(f\"{MODEL_SAVE_PATH} -- Folder already exists \\n\")\n",
    "else:\n",
    "    os.makedirs(MODEL_SAVE_PATH, exist_ok=True)\n",
    "    print(f\"{MODEL_SAVE_PATH} -- Folder create complete \\n\")\n",
    "\n",
    "# save tokenizer, model\n",
    "model.save_pretrained(MODEL_SAVE_PATH)\n",
    "tokenizer.save_pretrained(MODEL_SAVE_PATH)"
   ]
  },
  {
   "cell_type": "code",
   "execution_count": 8,
   "id": "1d7a8a6c",
   "metadata": {},
   "outputs": [
    {
     "data": {
      "image/png": "[encoded data removed]",
      "text/plain": [
       "<Figure size 864x432 with 2 Axes>"
      ]
     },
     "metadata": {
      "needs_background": "light"
     },
     "output_type": "display_data"
    }
   ],
   "source": [
    "import matplotlib.pyplot as plt\n",
    "import seaborn as sns\n",
    "\n",
    "# 학습 기록 추출\n",
    "\n",
    "history_dict = history.history\n",
    "loss = history_dict['loss']\n",
    "val_loss = history_dict['val_loss']\n",
    "accuracy = history_dict['accuracy']\n",
    "val_accuracy = history_dict['val_accuracy']\n",
    "\n",
    "epochs = range(1, len(loss) + 1)\n",
    "\n",
    "# 손실 시각화\n",
    "plt.figure(figsize=(12, 6))\n",
    "\n",
    "plt.subplot(1, 2, 1)\n",
    "sns.lineplot(x=epochs, y=loss, label='Training Loss')\n",
    "sns.lineplot(x=epochs, y=val_loss, label='Validation Loss')\n",
    "plt.xlabel('Epochs')\n",
    "plt.ylabel('Loss')\n",
    "plt.title('Training and Validation Loss')\n",
    "plt.legend()\n",
    "\n",
    "# 정확도 시각화\n",
    "plt.subplot(1, 2, 2)\n",
    "sns.lineplot(x=epochs, y=accuracy, label='Training Accuracy')\n",
    "sns.lineplot(x=epochs, y=val_accuracy, label='Validation Accuracy')\n",
    "plt.xlabel('Epochs')\n",
    "plt.ylabel('Accuracy')\n",
    "plt.title('Training and Validation Accuracy')\n",
    "plt.legend()\n",
    "\n",
    "plt.tight_layout()\n",
    "plt.show()"
   ]
  },
  {
   "cell_type": "code",
   "execution_count": 14,
   "id": "19386450",
   "metadata": {},
   "outputs": [
    {
     "name": "stderr",
     "output_type": "stream",
     "text": [
      "All model checkpoint layers were used when initializing TFElectraForSequenceClassification.\n",
      "\n",
      "All the layers of TFElectraForSequenceClassification were initialized from the model checkpoint at _model/KoELECTRA_v3_small_multi.\n",
      "If your task is similar to the task the model of the checkpoint was trained on, you can already use TFElectraForSequenceClassification for predictions without further training.\n"
     ]
    },
    {
     "name": "stdout",
     "output_type": "stream",
     "text": [
      "3\n",
      "3\n",
      "3\n",
      "3\n",
      "3\n",
      "3\n",
      "3\n",
      "3\n",
      "3\n",
      "3\n"
     ]
    }
   ],
   "source": [
    "from transformers import AutoTokenizer, TFElectraForSequenceClassification\n",
    "\n",
    "abnormal_tokenizer = AutoTokenizer.from_pretrained(MODEL_SAVE_PATH)\n",
    "abnormal_model = TFElectraForSequenceClassification.from_pretrained(MODEL_SAVE_PATH)\n",
    "\n",
    "def get_abnormal_label(text: str) -> int:\n",
    "    normal_class_id = 0\n",
    "    \n",
    "    # 입력 텍스트를 토크나이징합니다.\n",
    "    inputs = abnormal_tokenizer(text, return_tensors=\"tf\")\n",
    "    \n",
    "    # 로드된 모델을 사용하여 로짓(logits)을 예측합니다.\n",
    "    logits = abnormal_model(**inputs).logits\n",
    "    \n",
    "    # softmax 함수를 사용하여 각 클래스에 대한 확률을 계산합니다.\n",
    "    probabilities = tf.nn.softmax(logits, axis=-1)\n",
    "    \n",
    "    # 확률이 가장 높은 클래스 ID를 선택합니다.\n",
    "    class_id = tf.argmax(probabilities, axis=-1).numpy()[0]\n",
    "    return class_id\n",
    "\n",
    "data = df[df['class']==3].sample(10)\n",
    "for _, row in data.iterrows():\n",
    "    print(get_abnormal_label(row['text']))"
   ]
  },
  {
   "cell_type": "markdown",
   "id": "d56b27f0",
   "metadata": {},
   "source": [
    "\n",
    "\n",
    "1. Batch 32\n",
    "2. Batch 16"
   ]
  }
 ],
 "metadata": {
  "kernelspec": {
   "display_name": "Python 3 (ipykernel)",
   "language": "python",
   "name": "python3"
  },
  "language_info": {
   "codemirror_mode": {
    "name": "ipython",
    "version": 3
   },
   "file_extension": ".py",
   "mimetype": "text/x-python",
   "name": "python",
   "nbconvert_exporter": "python",
   "pygments_lexer": "ipython3",
   "version": "3.9.7"
  }
 },
 "nbformat": 4,
 "nbformat_minor": 5
}
