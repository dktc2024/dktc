{
 "cells": [
  {
   "cell_type": "markdown",
   "id": "f0c7cc51",
   "metadata": {},
   "source": [
    "# Train model\n",
    "\n",
    "1. 일반 vs 비정상 분류 모델\n",
    "2. 비정상 분류 모델\n",
    "\n",
    "#### class\n",
    "```\n",
    "- '일반 대화': 0\n",
    "- '협박 대화': 1\n",
    "- '갈취 대화': 2\n",
    "- '직장 내 괴롭힘 대화': 3\n",
    "- '기타 괴롭힘 대화': 4\n",
    "```\n",
    "\n",
    "#### text\n",
    "- max length: 430\n",
    "- min length: 100\n",
    "- sep: \\n (다른 발화자끼리)\n",
    "\n",
    "\n",
    "#### 모델 리스트\n",
    "- [DistilKoBERT](https://github.com/monologg/DistilKoBERT): pretrained korean embedding 존재하며, bert보다 빠름\n",
    "- [kykim/bert-kor-base](https://teddylee777.github.io/huggingface/bert-kor-text-classification/): BERT 모델\n",
    "- ~~[KcELECTRA: Korean comments ELECTRA](https://github.com/Beomi/KcELECTRA): 적은 용량, 계산 효율 Electra 모델~~\n",
    "  - [tokenizer.json 한글인코딩 이슈](https://huggingface.co/beomi/KcELECTRA-base/discussions/6) 아래와 같은 인코딩 문제가 발생하여, 폐기\n",
    "```py\n",
    "pretrained_model = \"beomi/KcELECTRA-base\"\n",
    "tokenizer = AutoTokenizer.from_pretrained(pretrained_model)\n",
    "tokenizer.tokenize(\"[CLS] 나는 아침을 먹었다 [SEP]\")\n",
    "['[CLS]', 'ĠëĤĺëĬĶ', 'ĠìķĦì¹¨', 'ìĿĦ', 'Ġë¨¹ìĹĪëĭ¤', 'Ġ', '[SEP]']\n",
    "```\n",
    "- [monologg/koelectra-base-v3-discriminator](https://huggingface.co/monologg/koelectra-base-v3-discriminator): 또 다른 electra 모델 선정\n",
    "  \n",
    "  \n",
    "#### Reference\n",
    "\n",
    "1. [Huggingface text classification](https://huggingface.co/docs/transformers/tasks/sequence_classification)\n",
    "2. [KoELECTRA v3](https://github.com/monologg/KoELECTRA/tree/master)\n"
   ]
  },
  {
   "cell_type": "markdown",
   "id": "3316b619",
   "metadata": {},
   "source": [
    "# 첫번째 모델\n",
    "> 일반 vs 비정상 분류 모델"
   ]
  },
  {
   "cell_type": "code",
   "execution_count": 1,
   "id": "cd1240e5",
   "metadata": {},
   "outputs": [],
   "source": [
    "from tqdm.notebook import tqdm\n",
    "tqdm.pandas()\n",
    "\n",
    "import os\n",
    "import pandas as pd\n",
    "import tensorflow as tf"
   ]
  },
  {
   "cell_type": "code",
   "execution_count": 2,
   "id": "b63027e1",
   "metadata": {},
   "outputs": [
    {
     "data": {
      "text/html": [
       "<div>\n",
       "<style scoped>\n",
       "    .dataframe tbody tr th:only-of-type {\n",
       "        vertical-align: middle;\n",
       "    }\n",
       "\n",
       "    .dataframe tbody tr th {\n",
       "        vertical-align: top;\n",
       "    }\n",
       "\n",
       "    .dataframe thead th {\n",
       "        text-align: right;\n",
       "    }\n",
       "</style>\n",
       "<table border=\"1\" class=\"dataframe\">\n",
       "  <thead>\n",
       "    <tr style=\"text-align: right;\">\n",
       "      <th></th>\n",
       "      <th>class</th>\n",
       "      <th>text</th>\n",
       "    </tr>\n",
       "  </thead>\n",
       "  <tbody>\n",
       "    <tr>\n",
       "      <th>0</th>\n",
       "      <td>1</td>\n",
       "      <td>지금 너 스스로를 죽여달라고 애원하는 것인가? 아닙니다. 죄송합니다. 죽을 거면 혼...</td>\n",
       "    </tr>\n",
       "    <tr>\n",
       "      <th>1</th>\n",
       "      <td>1</td>\n",
       "      <td>길동경찰서입니다. 9시 40분 마트에 폭발물을 설치할거다. 네? 똑바로 들어 한번만...</td>\n",
       "    </tr>\n",
       "    <tr>\n",
       "      <th>2</th>\n",
       "      <td>4</td>\n",
       "      <td>너 되게 귀여운거 알지? 나보다 작은 남자는 첨봤어. 그만해. 니들 놀리는거 재미없...</td>\n",
       "    </tr>\n",
       "    <tr>\n",
       "      <th>3</th>\n",
       "      <td>2</td>\n",
       "      <td>어이 거기 예?? 너 말이야 너. 이리 오라고 무슨 일. 너 옷 좋아보인다? 얘 돈...</td>\n",
       "    </tr>\n",
       "    <tr>\n",
       "      <th>4</th>\n",
       "      <td>3</td>\n",
       "      <td>나 이틀뒤에 가나다 음식점 예약좀 해줘. 저녁7시로. 가나다 음식점이요.? 응. 남...</td>\n",
       "    </tr>\n",
       "  </tbody>\n",
       "</table>\n",
       "</div>"
      ],
      "text/plain": [
       "   class                                               text\n",
       "0      1  지금 너 스스로를 죽여달라고 애원하는 것인가? 아닙니다. 죄송합니다. 죽을 거면 혼...\n",
       "1      1  길동경찰서입니다. 9시 40분 마트에 폭발물을 설치할거다. 네? 똑바로 들어 한번만...\n",
       "2      4  너 되게 귀여운거 알지? 나보다 작은 남자는 첨봤어. 그만해. 니들 놀리는거 재미없...\n",
       "3      2  어이 거기 예?? 너 말이야 너. 이리 오라고 무슨 일. 너 옷 좋아보인다? 얘 돈...\n",
       "4      3  나 이틀뒤에 가나다 음식점 예약좀 해줘. 저녁7시로. 가나다 음식점이요.? 응. 남..."
      ]
     },
     "execution_count": 2,
     "metadata": {},
     "output_type": "execute_result"
    }
   ],
   "source": [
    "df = pd.read_csv(\"./minwook_data.csv\")\n",
    "df.head()"
   ]
  },
  {
   "cell_type": "code",
   "execution_count": 3,
   "id": "4b84f44e",
   "metadata": {},
   "outputs": [
    {
     "data": {
      "text/plain": [
       "(6820, 2)"
      ]
     },
     "execution_count": 3,
     "metadata": {},
     "output_type": "execute_result"
    }
   ],
   "source": [
    "df.shape"
   ]
  },
  {
   "cell_type": "code",
   "execution_count": 6,
   "id": "abb4bcb4",
   "metadata": {},
   "outputs": [],
   "source": [
    "# 비정상데이터 모두 1로 변환\n",
    "df.loc[df['class'] !=0, 'class'] = 1"
   ]
  },
  {
   "cell_type": "code",
   "execution_count": 5,
   "id": "256870ef",
   "metadata": {},
   "outputs": [
    {
     "data": {
      "text/html": [
       "<div>\n",
       "<style scoped>\n",
       "    .dataframe tbody tr th:only-of-type {\n",
       "        vertical-align: middle;\n",
       "    }\n",
       "\n",
       "    .dataframe tbody tr th {\n",
       "        vertical-align: top;\n",
       "    }\n",
       "\n",
       "    .dataframe thead th {\n",
       "        text-align: right;\n",
       "    }\n",
       "</style>\n",
       "<table border=\"1\" class=\"dataframe\">\n",
       "  <thead>\n",
       "    <tr style=\"text-align: right;\">\n",
       "      <th></th>\n",
       "      <th>class</th>\n",
       "      <th>text</th>\n",
       "    </tr>\n",
       "  </thead>\n",
       "  <tbody>\n",
       "    <tr>\n",
       "      <th>4206</th>\n",
       "      <td>0</td>\n",
       "      <td>언니 김남욱 알아?\\n김남욱 알지!\\n그 사람 좀 통통했잖아 그런데 이번에 살 쫙 ...</td>\n",
       "    </tr>\n",
       "    <tr>\n",
       "      <th>3294</th>\n",
       "      <td>1</td>\n",
       "      <td>정 대리 박 과장이랑 잘해봐. 네? 제가요? 박 과장 사람도 참 괜찮고 부동산 관리...</td>\n",
       "    </tr>\n",
       "    <tr>\n",
       "      <th>4084</th>\n",
       "      <td>0</td>\n",
       "      <td>너네 낚시 여행도 자주 가겠다?\\n내가 싫어함 그래서 안 감\\n와 근데 잡네 잡는 ...</td>\n",
       "    </tr>\n",
       "    <tr>\n",
       "      <th>6632</th>\n",
       "      <td>0</td>\n",
       "      <td>예전에 주택 살 때 너희 집이랑 가까웠지?\\n너무 가까웠죠! 이사 가서 너무 아쉬워...</td>\n",
       "    </tr>\n",
       "    <tr>\n",
       "      <th>3409</th>\n",
       "      <td>1</td>\n",
       "      <td>너 아이를 내가 데리고 있다. 죄송합니다 정말 한번만 봐주세요 제 귀한 자식입니다....</td>\n",
       "    </tr>\n",
       "    <tr>\n",
       "      <th>4836</th>\n",
       "      <td>0</td>\n",
       "      <td>너 롤토체스 해 봤어?\\n너 칼바람만 하더니 갑자기 롤토체스는 왜?\\n아니 핸드폰에...</td>\n",
       "    </tr>\n",
       "    <tr>\n",
       "      <th>2740</th>\n",
       "      <td>1</td>\n",
       "      <td>도저히 상황이 안돼서 말씀하신 기간까지 마련하지 못한 점 죄송하게 생각합니다. 그래...</td>\n",
       "    </tr>\n",
       "    <tr>\n",
       "      <th>2532</th>\n",
       "      <td>1</td>\n",
       "      <td>뭐해 ? 나 지금 새로 생긴 일 때문에 잠시 나왔지. 뭐? 너 그런 이야기 없었잖아...</td>\n",
       "    </tr>\n",
       "    <tr>\n",
       "      <th>3964</th>\n",
       "      <td>0</td>\n",
       "      <td>오늘 니 점심 뭐 먹었어?\\n나 오늘 국수 먹을까 하다가 늦잠 자서 못 먹음\\n아 ...</td>\n",
       "    </tr>\n",
       "    <tr>\n",
       "      <th>5233</th>\n",
       "      <td>0</td>\n",
       "      <td>우리 결혼식 치른 지 엊그제 같은데 벌써 애들이 결혼할 나이네\\n벌써 우리 애들이 ...</td>\n",
       "    </tr>\n",
       "    <tr>\n",
       "      <th>6588</th>\n",
       "      <td>0</td>\n",
       "      <td>영양제 먹는 거 있냥...\\n나도 얼마 전에 물어봤었잖아 영양제 ㅠㅠ 먹어야 할 거...</td>\n",
       "    </tr>\n",
       "    <tr>\n",
       "      <th>4391</th>\n",
       "      <td>0</td>\n",
       "      <td>오늘 치과 갔을 때 시내에 차 많았어?\\n응 ㅠ 좀 막히더라 확실히 추석이라 다들 ...</td>\n",
       "    </tr>\n",
       "    <tr>\n",
       "      <th>4752</th>\n",
       "      <td>0</td>\n",
       "      <td>너 가족 관계가 어떻게 되더라?\\n나는 아빠,엄마,오빠,나야!\\n맞다 맞다 오빠 있...</td>\n",
       "    </tr>\n",
       "    <tr>\n",
       "      <th>787</th>\n",
       "      <td>1</td>\n",
       "      <td>김실장 운전 똑바로 못해? 죄송합니다 그렇게 험하게 운전하니 내가 마음 놓고 자네 ...</td>\n",
       "    </tr>\n",
       "    <tr>\n",
       "      <th>1831</th>\n",
       "      <td>1</td>\n",
       "      <td>집에 무슨일 있냐 아뇨 없는데요 근데 요즘 왜 그러는거야 일처리를 이따위로 하고 죄...</td>\n",
       "    </tr>\n",
       "  </tbody>\n",
       "</table>\n",
       "</div>"
      ],
      "text/plain": [
       "      class                                               text\n",
       "4206      0  언니 김남욱 알아?\\n김남욱 알지!\\n그 사람 좀 통통했잖아 그런데 이번에 살 쫙 ...\n",
       "3294      1  정 대리 박 과장이랑 잘해봐. 네? 제가요? 박 과장 사람도 참 괜찮고 부동산 관리...\n",
       "4084      0  너네 낚시 여행도 자주 가겠다?\\n내가 싫어함 그래서 안 감\\n와 근데 잡네 잡는 ...\n",
       "6632      0  예전에 주택 살 때 너희 집이랑 가까웠지?\\n너무 가까웠죠! 이사 가서 너무 아쉬워...\n",
       "3409      1  너 아이를 내가 데리고 있다. 죄송합니다 정말 한번만 봐주세요 제 귀한 자식입니다....\n",
       "4836      0  너 롤토체스 해 봤어?\\n너 칼바람만 하더니 갑자기 롤토체스는 왜?\\n아니 핸드폰에...\n",
       "2740      1  도저히 상황이 안돼서 말씀하신 기간까지 마련하지 못한 점 죄송하게 생각합니다. 그래...\n",
       "2532      1  뭐해 ? 나 지금 새로 생긴 일 때문에 잠시 나왔지. 뭐? 너 그런 이야기 없었잖아...\n",
       "3964      0  오늘 니 점심 뭐 먹었어?\\n나 오늘 국수 먹을까 하다가 늦잠 자서 못 먹음\\n아 ...\n",
       "5233      0  우리 결혼식 치른 지 엊그제 같은데 벌써 애들이 결혼할 나이네\\n벌써 우리 애들이 ...\n",
       "6588      0  영양제 먹는 거 있냥...\\n나도 얼마 전에 물어봤었잖아 영양제 ㅠㅠ 먹어야 할 거...\n",
       "4391      0  오늘 치과 갔을 때 시내에 차 많았어?\\n응 ㅠ 좀 막히더라 확실히 추석이라 다들 ...\n",
       "4752      0  너 가족 관계가 어떻게 되더라?\\n나는 아빠,엄마,오빠,나야!\\n맞다 맞다 오빠 있...\n",
       "787       1  김실장 운전 똑바로 못해? 죄송합니다 그렇게 험하게 운전하니 내가 마음 놓고 자네 ...\n",
       "1831      1  집에 무슨일 있냐 아뇨 없는데요 근데 요즘 왜 그러는거야 일처리를 이따위로 하고 죄..."
      ]
     },
     "execution_count": 5,
     "metadata": {},
     "output_type": "execute_result"
    }
   ],
   "source": [
    "df.sample(15)"
   ]
  },
  {
   "cell_type": "markdown",
   "id": "4417f36c",
   "metadata": {},
   "source": [
    "# Tokenize"
   ]
  },
  {
   "cell_type": "code",
   "execution_count": 7,
   "id": "9504e669",
   "metadata": {
    "scrolled": true
   },
   "outputs": [],
   "source": [
    "from transformers import ElectraTokenizer\n",
    "\n",
    "pretrained_model = \"monologg/koelectra-small-v3-discriminator\"\n",
    "\n",
    "tokenizer = ElectraTokenizer.from_pretrained(pretrained_model)"
   ]
  },
  {
   "cell_type": "code",
   "execution_count": 7,
   "id": "04a075b9",
   "metadata": {},
   "outputs": [],
   "source": [
    "# from transformers import AutoTokenizer\n",
    "\n",
    "# pretrained_model = \"beomi/KcELECTRA-base\"\n",
    "\n",
    "# tokenizer = AutoTokenizer.from_pretrained(pretrained_model)"
   ]
  },
  {
   "cell_type": "code",
   "execution_count": 8,
   "id": "7c8a8de9",
   "metadata": {
    "scrolled": true
   },
   "outputs": [
    {
     "data": {
      "text/html": [
       "<div>\n",
       "<style scoped>\n",
       "    .dataframe tbody tr th:only-of-type {\n",
       "        vertical-align: middle;\n",
       "    }\n",
       "\n",
       "    .dataframe tbody tr th {\n",
       "        vertical-align: top;\n",
       "    }\n",
       "\n",
       "    .dataframe thead th {\n",
       "        text-align: right;\n",
       "    }\n",
       "</style>\n",
       "<table border=\"1\" class=\"dataframe\">\n",
       "  <thead>\n",
       "    <tr style=\"text-align: right;\">\n",
       "      <th></th>\n",
       "      <th>class</th>\n",
       "      <th>text</th>\n",
       "    </tr>\n",
       "  </thead>\n",
       "  <tbody>\n",
       "    <tr>\n",
       "      <th>6327</th>\n",
       "      <td>0</td>\n",
       "      <td>헐 대박 숟가락으로 땅굴 파서 탈옥했대 키키. 헉 정말? 영화에서 보던 이야기였는데...</td>\n",
       "    </tr>\n",
       "    <tr>\n",
       "      <th>2258</th>\n",
       "      <td>1</td>\n",
       "      <td>00씨 커피좀 사와 저 지금 거래처 전화 기다리고 있어요 중요한건가 네 내가 받을테...</td>\n",
       "    </tr>\n",
       "    <tr>\n",
       "      <th>6576</th>\n",
       "      <td>0</td>\n",
       "      <td>서울은 버스비 어느 정도 해?. 나 버스 한 번도 안 타봐서 모르겠는데 지하철은 1...</td>\n",
       "    </tr>\n",
       "  </tbody>\n",
       "</table>\n",
       "</div>"
      ],
      "text/plain": [
       "      class                                               text\n",
       "6327      0  헐 대박 숟가락으로 땅굴 파서 탈옥했대 키키. 헉 정말? 영화에서 보던 이야기였는데...\n",
       "2258      1  00씨 커피좀 사와 저 지금 거래처 전화 기다리고 있어요 중요한건가 네 내가 받을테...\n",
       "6576      0  서울은 버스비 어느 정도 해?. 나 버스 한 번도 안 타봐서 모르겠는데 지하철은 1..."
      ]
     },
     "execution_count": 8,
     "metadata": {},
     "output_type": "execute_result"
    }
   ],
   "source": [
    "# df = df.replace(r'\\\\n', tokenizer.sep_token, regex=True) # [SEP]\n",
    "df = df.replace(r'\\\\n', '. ', regex=True) # .\n",
    "assert df['text'].str.contains(r'\\n').any() == False\n",
    "df.sample(3)"
   ]
  },
  {
   "cell_type": "code",
   "execution_count": 9,
   "id": "23f0a8be",
   "metadata": {},
   "outputs": [
    {
     "data": {
      "text/plain": [
       "'[CLS] 야야 피자 vs 치킨 과연 당신의 선택은?. 나는 피자랑 치킨 중에 하나만 고르라면 치킨!. 나는 피자가 더 맛있더라 키키. 아 그래? 나는 뭐랄까 치킨이 땡길 때가 많더라고. 그치 튀긴 건 원래 다 맛있잖아 키키. 인정 키키 튀긴 음식은 그냥 다 맛있는 듯. 너 튀김 중에 족발 튀김이라고 들어 봤어?. 그건 뭐야? 처음 들어 본다 그걸 튀겨?. 그냥 족발도 맛있는데 그걸 한 번 더 튀겼대. 오 신기하네 내가 족발을 자주 안 먹어서 그건 몰랐다. 나도 안 먹긴 한데 키키 그냥 튀김 생각나서 말해 봤어. 신기하네 키키 그거 바삭하긴 한가?. 응 껍질에서 소리 대박이야 키키. 헐 신기하네 키키 한번 먹어는 보고 싶다. 응 옆 동네에 새로 생겼다던대 가 볼래?. 오케이 콜 족발에 소주 한잔 ㄱㄱ [SEP]'"
      ]
     },
     "execution_count": 9,
     "metadata": {},
     "output_type": "execute_result"
    }
   ],
   "source": [
    "tokenizer.decode(tokenizer.encode(df['text'][5084]))"
   ]
  },
  {
   "cell_type": "code",
   "execution_count": 10,
   "id": "22e8d3b6",
   "metadata": {},
   "outputs": [
    {
     "data": {
      "application/vnd.jupyter.widget-view+json": {
       "model_id": "277b6f633cff42bc9ad785dbdf82d5b3",
       "version_major": 2,
       "version_minor": 0
      },
      "text/plain": [
       "  0%|          | 0/7 [00:00<?, ?ba/s]"
      ]
     },
     "metadata": {},
     "output_type": "display_data"
    },
    {
     "name": "stdout",
     "output_type": "stream",
     "text": [
      "UNKNOWN 토큰의 출현 횟수는 총 6820 입니다.\n"
     ]
    }
   ],
   "source": [
    "# # For showing number of UNK\n",
    "# def tokenize(datas):\n",
    "#     return tokenizer(datas[\"text\"], truncation=True)\n",
    "\n",
    "# dataset = Dataset.from_pandas(df)\n",
    "# tokenized_dataset = dataset.map(tokenize, batched=True).to_pandas()\n",
    "\n",
    "# unk_token_encoded = tokenizer.encode(tokenizer.unk_token)[0]\n",
    "\n",
    "# def contains_unk_token(input_ids, unk_token_encoded):\n",
    "#     return unk_token_encoded in input_ids\n",
    "\n",
    "# cnt = tokenized_dataset['input_ids'].apply(lambda x: contains_unk_token(x, unk_token_encoded))\n",
    "# print(f'UNKNOWN 토큰의 출현 횟수는 총 {cnt.sum()} 입니다.')"
   ]
  },
  {
   "cell_type": "code",
   "execution_count": 10,
   "id": "b06807a3",
   "metadata": {},
   "outputs": [],
   "source": [
    "def convert_to_input(df, tokenizer, max_length):\n",
    "    input_ids = []\n",
    "    attention_masks = []\n",
    "    labels = []\n",
    "\n",
    "    for i in range(len(df)):\n",
    "        sentence = df.iloc[i]['text'].replace('.', '')\n",
    "        encoded = tokenizer.encode_plus(\n",
    "            sentence,\n",
    "            add_special_tokens=True,\n",
    "            max_length=max_length,\n",
    "            padding='max_length',\n",
    "            truncation=True,\n",
    "            return_attention_mask=True,\n",
    "            return_tensors='tf'\n",
    "        )\n",
    "        input_ids.append(encoded['input_ids'])\n",
    "        attention_masks.append(encoded['attention_mask'])\n",
    "        labels.append(df.iloc[i]['class'])\n",
    "\n",
    "    input_ids = tf.concat(input_ids, axis=0)\n",
    "    attention_masks = tf.concat(attention_masks, axis=0)\n",
    "    labels = tf.convert_to_tensor(labels, dtype=tf.int32)\n",
    "\n",
    "    return {\n",
    "        'input_ids': input_ids,\n",
    "        'attention_mask': attention_masks\n",
    "    }, labels\n"
   ]
  },
  {
   "cell_type": "markdown",
   "id": "64acfce7",
   "metadata": {},
   "source": [
    "# Data Split"
   ]
  },
  {
   "cell_type": "code",
   "execution_count": 11,
   "id": "19929a7c",
   "metadata": {},
   "outputs": [],
   "source": [
    "from sklearn.model_selection import train_test_split\n",
    "\n",
    "SEED = 1024\n",
    "MAX_LENGTH = 250\n",
    "BATCH_SIZE = 16\n",
    "\n",
    "train_df, test_df = train_test_split(\n",
    "    df, test_size = 0.2, random_state = SEED, stratify=df['class']\n",
    ")\n",
    "train_inputs, train_labels = convert_to_input(train_df, tokenizer, max_length=MAX_LENGTH)\n",
    "test_inputs, test_labels = convert_to_input(test_df, tokenizer, max_length=MAX_LENGTH)\n",
    "train_dataset = tf.data.Dataset.from_tensor_slices((train_inputs, train_labels)).batch(BATCH_SIZE)\n",
    "test_dataset = tf.data.Dataset.from_tensor_slices((test_inputs, test_labels)).batch(BATCH_SIZE)"
   ]
  },
  {
   "cell_type": "code",
   "execution_count": 12,
   "id": "408d9072",
   "metadata": {},
   "outputs": [
    {
     "data": {
      "text/html": [
       "<div>\n",
       "<style scoped>\n",
       "    .dataframe tbody tr th:only-of-type {\n",
       "        vertical-align: middle;\n",
       "    }\n",
       "\n",
       "    .dataframe tbody tr th {\n",
       "        vertical-align: top;\n",
       "    }\n",
       "\n",
       "    .dataframe thead th {\n",
       "        text-align: right;\n",
       "    }\n",
       "</style>\n",
       "<table border=\"1\" class=\"dataframe\">\n",
       "  <thead>\n",
       "    <tr style=\"text-align: right;\">\n",
       "      <th></th>\n",
       "      <th>class</th>\n",
       "      <th>text</th>\n",
       "    </tr>\n",
       "  </thead>\n",
       "  <tbody>\n",
       "    <tr>\n",
       "      <th>3929</th>\n",
       "      <td>0</td>\n",
       "      <td>점심 식사는 했나? 키키. 엉 키키 엄청 이것저것 먹었어. 오 키키 나도 서남 시장...</td>\n",
       "    </tr>\n",
       "    <tr>\n",
       "      <th>6526</th>\n",
       "      <td>0</td>\n",
       "      <td>나 요즘에 운동하고 있엉!. 오~ 무슨 운동?. 나 신촌에서 알바 끝나고 집까지 걸...</td>\n",
       "    </tr>\n",
       "    <tr>\n",
       "      <th>4539</th>\n",
       "      <td>0</td>\n",
       "      <td>오빠~ 주말에 배드민턴 치러 갈까~?. 오~ 배드민턴! 재밌겠다 하하. 자기 잘 쳐...</td>\n",
       "    </tr>\n",
       "    <tr>\n",
       "      <th>2362</th>\n",
       "      <td>1</td>\n",
       "      <td>승연씨. 회사를 넘 편하게 다니는 거 아니야? 네? 그게 무슨 말씀이세요? 아니 승...</td>\n",
       "    </tr>\n",
       "    <tr>\n",
       "      <th>3534</th>\n",
       "      <td>0</td>\n",
       "      <td>캠핑 가고 싶노. 저는 최근에 한번 갔다 왔습니다 하하. 오~ 어디로 갔다 왔어?....</td>\n",
       "    </tr>\n",
       "  </tbody>\n",
       "</table>\n",
       "</div>"
      ],
      "text/plain": [
       "      class                                               text\n",
       "3929      0  점심 식사는 했나? 키키. 엉 키키 엄청 이것저것 먹었어. 오 키키 나도 서남 시장...\n",
       "6526      0  나 요즘에 운동하고 있엉!. 오~ 무슨 운동?. 나 신촌에서 알바 끝나고 집까지 걸...\n",
       "4539      0  오빠~ 주말에 배드민턴 치러 갈까~?. 오~ 배드민턴! 재밌겠다 하하. 자기 잘 쳐...\n",
       "2362      1  승연씨. 회사를 넘 편하게 다니는 거 아니야? 네? 그게 무슨 말씀이세요? 아니 승...\n",
       "3534      0  캠핑 가고 싶노. 저는 최근에 한번 갔다 왔습니다 하하. 오~ 어디로 갔다 왔어?...."
      ]
     },
     "execution_count": 12,
     "metadata": {},
     "output_type": "execute_result"
    }
   ],
   "source": [
    "test_df.sample(5)"
   ]
  },
  {
   "cell_type": "code",
   "execution_count": 11,
   "id": "be5fff6b",
   "metadata": {},
   "outputs": [],
   "source": [
    "# tf.debugging.set_log_device_placement(True) # gpu check"
   ]
  },
  {
   "cell_type": "markdown",
   "id": "7d7a9a50",
   "metadata": {},
   "source": [
    "> NotImplementedError: Saving the model to HDF5 format requires the model to be a Functional model or a Sequential model. It does not work for subclassed models, because such models are defined via the body of a Python method, which isn't safely serializable. Consider saving to the Tensorflow SavedModel format (by setting save_format=\"tf\") or using `save_weights`.\n",
    "\n",
    "\n",
    "    `TFElectraForSequenceClassification` 모델은 subclass형식의 모델이기 때문에, ModelCheckpoint에서 save할때 hdf5로 serialize를 안전하게 할 수 없는 것 같다. 'tf'형식으로 저장 또는 weight만 저장하도록 해줘야하는데, tf형식으로 저장하도록 ModelCheckpoint에 알릴 방법이 없는 것 같아, weight만 저장하도록 했다.\n",
    "\n",
    "```py\n",
    "callback_modelcheckpoint = ModelCheckpoint(\n",
    "    ...\n",
    "    save_weights_only=\"True\"\n",
    ")\n",
    "```\n",
    "\n",
    "## TFElectraForSequenceClassification\n",
    "\n",
    "이 모델의 `num_labels == 1`이면 regression loss로 계산되고(`Mean-Square loss`), `config.num_labels > 1`이면 `Cross-Entropy`로 계산됩니다.\n",
    "\n",
    "> If config.num_labels == 1 a regression loss is computed (Mean-Square loss), If config.num_labels > 1 a classification loss is computed (Cross-Entropy)."
   ]
  },
  {
   "cell_type": "code",
   "execution_count": 13,
   "id": "f0f5ed72",
   "metadata": {},
   "outputs": [
    {
     "name": "stderr",
     "output_type": "stream",
     "text": [
      "Some weights of the PyTorch model were not used when initializing the TF 2.0 model TFElectraForSequenceClassification: ['discriminator_predictions.dense_prediction.bias', 'discriminator_predictions.dense.weight', 'discriminator_predictions.dense.bias', 'discriminator_predictions.dense_prediction.weight', 'electra.embeddings.position_ids']\n",
      "- This IS expected if you are initializing TFElectraForSequenceClassification from a PyTorch model trained on another task or with another architecture (e.g. initializing a TFBertForSequenceClassification model from a BertForPreTraining model).\n",
      "- This IS NOT expected if you are initializing TFElectraForSequenceClassification from a PyTorch model that you expect to be exactly identical (e.g. initializing a TFBertForSequenceClassification model from a BertForSequenceClassification model).\n",
      "Some weights or buffers of the TF 2.0 model TFElectraForSequenceClassification were not initialized from the PyTorch model and are newly initialized: ['classifier.dense.weight', 'classifier.dense.bias', 'classifier.out_proj.weight', 'classifier.out_proj.bias']\n",
      "You should probably TRAIN this model on a down-stream task to be able to use it for predictions and inference.\n"
     ]
    },
    {
     "name": "stdout",
     "output_type": "stream",
     "text": [
      "Epoch 1/50\n",
      "341/341 [==============================] - 88s 211ms/step - loss: 0.4690 - accuracy: 0.7769 - val_loss: 0.2291 - val_accuracy: 0.9993\n",
      "Epoch 2/50\n",
      "341/341 [==============================] - 69s 203ms/step - loss: 0.1518 - accuracy: 0.9956 - val_loss: 0.0726 - val_accuracy: 0.9993\n",
      "Epoch 3/50\n",
      "341/341 [==============================] - 69s 203ms/step - loss: 0.0528 - accuracy: 0.9996 - val_loss: 0.0502 - val_accuracy: 0.9919\n",
      "Epoch 4/50\n",
      "341/341 [==============================] - 69s 202ms/step - loss: 0.0255 - accuracy: 0.9993 - val_loss: 0.0139 - val_accuracy: 1.0000\n"
     ]
    }
   ],
   "source": [
    "import re\n",
    "from sklearn.preprocessing import LabelEncoder\n",
    "from transformers import TFElectraForSequenceClassification\n",
    "from tensorflow.keras.callbacks import EarlyStopping, ModelCheckpoint\n",
    "\n",
    "\n",
    "MODEL_NAME = 'koelectra-small-v3'\n",
    "MODEL_CHECK_POINT_PATH = f\"{MODEL_NAME}.weights.h5\"\n",
    "MODEL_SAVE_PATH = os.path.join(\"_model\", MODEL_NAME)\n",
    "\n",
    "\n",
    "callback_earlystopping = EarlyStopping(\n",
    "    monitor=\"val_accuracy\", min_delta=0.001, patience=3\n",
    ")\n",
    "# lr 조절\n",
    "callback_learningrate_scheduler = tf.keras.callbacks.ReduceLROnPlateau(\n",
    "    monitor=\"val_loss\",\n",
    "    factor=0.1,\n",
    "    patience=5,\n",
    "    verbose=0,\n",
    "    mode=\"auto\",\n",
    "    min_delta=0.0001,\n",
    "    cooldown=0,\n",
    "    min_lr=1e-6,\n",
    ")\n",
    "\n",
    "callback_modelcheckpoint = ModelCheckpoint(\n",
    "    filepath=MODEL_CHECK_POINT_PATH,\n",
    "    monitor=\"val_accuracy\",\n",
    "    save_best_only=True,\n",
    "    save_weights_only=\"True\"\n",
    ")\n",
    "callbacks = [\n",
    "    callback_earlystopping,\n",
    "    callback_learningrate_scheduler,\n",
    "    callback_modelcheckpoint,\n",
    "]\n",
    "\n",
    "EPOCHS = 50\n",
    "# /device:GPU:0\n",
    "with tf.device('/device:GPU:0'):\n",
    "    model = TFElectraForSequenceClassification.from_pretrained(\n",
    "        pretrained_model,\n",
    "        num_labels=1,\n",
    "        from_pt=True,  # Load from PyTorch checkpoint\n",
    "    )\n",
    "\n",
    "    optimizer = tf.keras.optimizers.Adam(learning_rate=1e-5)\n",
    "    model.compile(\n",
    "        optimizer=optimizer, \n",
    "        loss=tf.keras.losses.BinaryCrossentropy(from_logits=True),\n",
    "        metrics=['accuracy']\n",
    "    )\n",
    "    history = model.fit(\n",
    "        train_dataset, \n",
    "        epochs=EPOCHS, \n",
    "        validation_data=test_dataset,\n",
    "        callbacks = callbacks,\n",
    "    )"
   ]
  },
  {
   "cell_type": "code",
   "execution_count": 14,
   "id": "e8cb2e37",
   "metadata": {},
   "outputs": [
    {
     "name": "stdout",
     "output_type": "stream",
     "text": [
      "_model/koelectra-small-v3 -- Folder create complete \n",
      "\n"
     ]
    },
    {
     "data": {
      "text/plain": [
       "('_model/koelectra-small-v3/tokenizer_config.json',\n",
       " '_model/koelectra-small-v3/special_tokens_map.json',\n",
       " '_model/koelectra-small-v3/vocab.txt',\n",
       " '_model/koelectra-small-v3/added_tokens.json')"
      ]
     },
     "execution_count": 14,
     "metadata": {},
     "output_type": "execute_result"
    }
   ],
   "source": [
    "if os.path.exists(MODEL_SAVE_PATH):\n",
    "    print(f\"{MODEL_SAVE_PATH} -- Folder already exists \\n\")\n",
    "else:\n",
    "    os.makedirs(MODEL_SAVE_PATH, exist_ok=True)\n",
    "    print(f\"{MODEL_SAVE_PATH} -- Folder create complete \\n\")\n",
    "\n",
    "# save tokenizer, model\n",
    "model.save_pretrained(MODEL_SAVE_PATH)\n",
    "tokenizer.save_pretrained(MODEL_SAVE_PATH)"
   ]
  },
  {
   "cell_type": "code",
   "execution_count": 15,
   "id": "ac1708fc",
   "metadata": {},
   "outputs": [
    {
     "data": {
      "image/png": "[encoded data removed]",
      "text/plain": [
       "<Figure size 864x432 with 2 Axes>"
      ]
     },
     "metadata": {
      "needs_background": "light"
     },
     "output_type": "display_data"
    }
   ],
   "source": [
    "import matplotlib.pyplot as plt\n",
    "import seaborn as sns\n",
    "\n",
    "# 학습 기록 추출\n",
    "\n",
    "history_dict = history.history\n",
    "loss = history_dict['loss']\n",
    "val_loss = history_dict['val_loss']\n",
    "accuracy = history_dict['accuracy']\n",
    "val_accuracy = history_dict['val_accuracy']\n",
    "\n",
    "epochs = range(1, len(loss) + 1)\n",
    "\n",
    "# 손실 시각화\n",
    "plt.figure(figsize=(12, 6))\n",
    "\n",
    "plt.subplot(1, 2, 1)\n",
    "sns.lineplot(x=epochs, y=loss, label='Training Loss')\n",
    "sns.lineplot(x=epochs, y=val_loss, label='Validation Loss')\n",
    "plt.xlabel('Epochs')\n",
    "plt.ylabel('Loss')\n",
    "plt.title('Training and Validation Loss')\n",
    "plt.legend()\n",
    "\n",
    "# 정확도 시각화\n",
    "plt.subplot(1, 2, 2)\n",
    "sns.lineplot(x=epochs, y=accuracy, label='Training Accuracy')\n",
    "sns.lineplot(x=epochs, y=val_accuracy, label='Validation Accuracy')\n",
    "plt.xlabel('Epochs')\n",
    "plt.ylabel('Accuracy')\n",
    "plt.title('Training and Validation Accuracy')\n",
    "plt.legend()\n",
    "\n",
    "plt.tight_layout()\n",
    "plt.show()"
   ]
  },
  {
   "cell_type": "code",
   "execution_count": 16,
   "id": "ed7ca768",
   "metadata": {},
   "outputs": [
    {
     "name": "stderr",
     "output_type": "stream",
     "text": [
      "All model checkpoint layers were used when initializing TFElectraForSequenceClassification.\n",
      "\n",
      "All the layers of TFElectraForSequenceClassification were initialized from the model checkpoint at _model/koelectra-small-v3.\n",
      "If your task is similar to the task the model of the checkpoint was trained on, you can already use TFElectraForSequenceClassification for predictions without further training.\n"
     ]
    },
    {
     "name": "stdout",
     "output_type": "stream",
     "text": [
      "[0]\n",
      "[0]\n",
      "[0]\n",
      "[0]\n",
      "[0]\n",
      "[0]\n",
      "[0]\n",
      "[0]\n",
      "[0]\n",
      "[0]\n"
     ]
    }
   ],
   "source": [
    "from transformers import AutoTokenizer, TFElectraForSequenceClassification\n",
    "\n",
    "loaded_tokenizer = AutoTokenizer.from_pretrained(MODEL_SAVE_PATH)\n",
    "loaded_model = TFElectraForSequenceClassification.from_pretrained(MODEL_SAVE_PATH)\n",
    "\n",
    "\n",
    "def evaluate(text: str, verbose=True):\n",
    "    inputs = tokenizer(text, return_tensors=\"tf\")\n",
    "    logits = loaded_model(**inputs).logits\n",
    "    probabilities = tf.nn.sigmoid(logits)\n",
    "    # Apply threshold of 0.5 for binary classification\n",
    "    class_id = tf.where(probabilities > 0.5, 1, 0).numpy()[0]\n",
    "    return class_id\n",
    "\n",
    "normal = df[df['class']==0].sample(10)\n",
    "for _, row in normal.iterrows():\n",
    "    print(evaluate(row['text']))"
   ]
  },
  {
   "cell_type": "code",
   "execution_count": 17,
   "id": "8811b77a",
   "metadata": {},
   "outputs": [
    {
     "name": "stdout",
     "output_type": "stream",
     "text": [
      "[1]\n",
      "[1]\n",
      "[0]\n"
     ]
    }
   ],
   "source": [
    "최익현 = \"\"\"\n",
    "후임 형사 :(익현의 머리를 때리며) 이 새끼가 뭘 잘했다고, 앉아 마!\n",
    "(곧바로 수갑찬 손으로 반격하며)씨빨놈이! 쳐 돌았나? 어데서 손을 함부로 놀리노? 느그 서장 어딨어! 강서장 델꼬와!! 니 내 누군줄 아나? 내가 이 새꺄! 느그 서장이랑 마! 개섀끼..\n",
    "(선임 형사) :(급하게 달려오며) 저 서..선생님.. 실례지만 저희 서장님과 관계가 어떻게..\n",
    "느그 서장 남천동 살제? 어?\n",
    "(선임 형사) : 예.. 예..\n",
    "내가 마! 느그 서장이랑 마! 어저께도! 어? 밥 묵고! 어? 사우나도 같이 가고! 어? 마 이 개이새꺄 마 다 했어! 이 새끼들이 말이야. 개섀끼들..\n",
    "\"\"\"\n",
    "print(evaluate(최익현))\n",
    "\n",
    "아귀 = \"\"\"\n",
    "고광렬: 구땡입니다.\n",
    "아귀: 어이, 고광렬이.\n",
    "고광렬: 저 아세요?\n",
    "아귀: 너는 첫 판부터 장난질이냐?(이와 동시에 바로 고광렬의 손목을 붙잡고 칼로 손등을 찍는다.)\n",
    "고광렬: 흐그으으으으아아아아아앗\n",
    "아귀: 니 손바닥에 화투 한 장 붙어 있다는 거에 내 돈 모두하고 내 손 하나를 걸겄다. 넌 무엇을 걸래~? 삼촌.\n",
    "호구: ㅇ...예!\n",
    "아귀: (고광렬의 손바닥에 칼로 꿰뚫린 화투를 보여주며) 이러니 돈을 꼴으셨제~\n",
    "호구: 아...예...!\n",
    "아귀: 해머 갖고 와.\n",
    "아귀: 손 아까우면 다른 걸 걸어. 경상도 짝귀가 처음에...귀를 걸었던가? 으허허허\n",
    "고광렬: 아...아귀...!\n",
    "아귀: (호구에게) 잡어유.\n",
    "고광렬: 한...한번만 봐주세요...!\n",
    "아귀: 흐흐흐흐 너 다음은 고니 차례여.\n",
    "\"\"\"\n",
    "\n",
    "print(evaluate(아귀))\n",
    "\n",
    "일반글 = \"\"\"\n",
    "흔한 커플의 카톡 대화 을 클릭해보았다.이게 웬걸 ㅋㅋ 웃기다 ㅋㅋ \n",
    "\n",
    "흔한 커플의 대화긴 하다.ㅋㅋ 흔한 커플의 카톡 대화 에서 보듯 ㅋㅋ 사귀다보면 ㅋㅋ 문자도 짧아진다 ㅋ\n",
    "\n",
    "사랑한다는 말또한 줄어든다.ㅋㅋ 그건 당연한것이 아닌가?ㅋㅋ 저는 ㅋㅋ 그런말 하지도 않습니다.ㅋ\n",
    "\n",
    "사랑은 하는데 ㅋㅋ 그런말을 못하겠더라구요 ㅋ 그래서 여자친구가 ㅋㅋ 좀 뭐라고 하지요.ㅋ\n",
    "\n",
    "일반 커플도 다 그렇지 않나요??ㅋㅋ 사귀다 결혼해도 사귈때랑 같고. ㅋㅋ\n",
    "\n",
    "그냥 그런게 사람 사는거 아니겠습니까??ㅋㅋㅋ 흔한 커플의 카톡 대화 에서 보니 ㅋㅋ\n",
    "\n",
    "저 같은 사람 많더라구요.ㅎㅎ 그럼 한번 알아볼까요??ㅎㅎ\n",
    "\n",
    "그리고 ㅋㅋ 한번 본인의 상태도 점검해 보시길 바랍니다.ㅋㅋ\n",
    "\"\"\"\n",
    "print(evaluate(일반글))"
   ]
  },
  {
   "cell_type": "markdown",
   "id": "bda2569d",
   "metadata": {},
   "source": [
    "# 회고\n",
    "\n",
    "1. accuracy 0.76에서 갑자기 validation이 1에 근사한 이유가 궁금하다.\n",
    "2. [SEP]를 지우고 하니 잘되는 이유가 궁금하다."
   ]
  },
  {
   "cell_type": "code",
   "execution_count": null,
   "id": "7bc3ba1d",
   "metadata": {},
   "outputs": [],
   "source": []
  }
 ],
 "metadata": {
  "kernelspec": {
   "display_name": "Python 3 (ipykernel)",
   "language": "python",
   "name": "python3"
  },
  "language_info": {
   "codemirror_mode": {
    "name": "ipython",
    "version": 3
   },
   "file_extension": ".py",
   "mimetype": "text/x-python",
   "name": "python",
   "nbconvert_exporter": "python",
   "pygments_lexer": "ipython3",
   "version": "3.9.7"
  }
 },
 "nbformat": 4,
 "nbformat_minor": 5
}
