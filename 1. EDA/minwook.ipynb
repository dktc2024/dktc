{
 "cells": [
  {
   "cell_type": "markdown",
   "id": "d94186d7",
   "metadata": {},
   "source": [
    "# DKTC\n",
    "> Dataset of Korean Threatening Conversations\n",
    "\n",
    "1. DKTC 훈련 데이터를 이용해 협박, 갈취, 직장 내 괴롭힘, 기타 괴롭힘, 일반 대화 5가지 대화 유형 Class를 분류하는 딥러닝 모델을 만듭니다.\n",
    "2. DKTC 테스트 데이터를 활용해 분류 성능을 평가합니다.\n",
    "\n",
    "## TODO\n",
    "- [ ] 데이터 EDA와 데이터 전처리가 적절하게 이뤄졌는가?\n",
    "- [ ] Task에 알맞게 적절한 모델을 찾아보고 선정했는가?\n",
    "- [ ] 성능향상을 위해 논리적으로 접근했는가?\n",
    "- [ ] 결과 도출을 위해 여러가지 시도를 진행했는가?\n",
    "- [ ] 도출된 결론에 충분한 설득력이 있는가?\n",
    "- [ ] 적절한 metric을 설정하고 그 사용 근거 및 결과를 분석하였는가?\n",
    "- [ ] 발표가 매끄럽게 진행되었고 발표시간을 준수하였는지?"
   ]
  },
  {
   "cell_type": "code",
   "execution_count": 177,
   "id": "aa79191c",
   "metadata": {},
   "outputs": [
    {
     "name": "stdout",
     "output_type": "stream",
     "text": [
      "total 2700\r\n",
      "drwxr-xr-x 3 root root    4096 Jun 20 02:44 .\r\n",
      "drwxrwxrwx 1 root root    4096 Jun 25 00:01 ..\r\n",
      "drwxr-xr-x 2 root root    4096 Aug 29  2023 .ipynb_checkpoints\r\n",
      "-rw-r--r-- 1 root root    3215 Jun 20 02:44 submission.csv\r\n",
      "-rw-r--r-- 1 root root  499744 Jun 20 02:38 test.json\r\n",
      "-rw-r--r-- 1 root root 2239660 Aug 28  2023 train.csv\r\n"
     ]
    }
   ],
   "source": [
    "# !mkdir -p ~/aiffel/dktc\n",
    "# !ln -s ~/data/ ~/aiffel/dktc\n",
    "!ls -al ~/data"
   ]
  },
  {
   "cell_type": "markdown",
   "id": "c8b221e5",
   "metadata": {},
   "source": [
    "# Proposal\n",
    "\n",
    "## Intro\n",
    "구하기 쉬운 일반 데이터를 사용해서 일반 또는 비정상인지 분류하는 모델을 생성하여 각각 학습합니다. 추론단계에서 비정상으로 분류되었다면, softmax로 single label classification 모델을 통과시켜 최종 정답을 분류합니다.\n",
    "\n",
    "- 학습단계에서 word embedding과 tokenizer는 공유합니다.\n",
    "- 일반 텍스트의 갯수는 비정상 텍스트 총 갯수와 같도록 만듭니다.\n",
    "\n",
    "1. Binary classification: 일반/비정상 분류 모델 (0 or 1)\n",
    "2. Multiclass classification: 비정상 분류 모델 (0 ~ 3)\n",
    "\n",
    "## Data\n",
    "\n",
    "## Model\n",
    "\n",
    "## "
   ]
  },
  {
   "cell_type": "markdown",
   "id": "d1222921",
   "metadata": {},
   "source": [
    "# 1. EDA\n",
    "\n",
    "\n",
    "- [tunib data](https://github.com/tunib-ai/DKTC)\n",
    "\n",
    "1. idx = 인덱스\n",
    "2. class = 0~4\n",
    "  - class 0; 협박 대화\n",
    "  - class 1; 갈취 대화\n",
    "  - class 2; 직장 내 괴롭힘 대화\n",
    "  - class 3; 기타 괴롭힘 대화\n",
    "3. conversation = \\n으로 구분된 멀티턴 텍스트 대화"
   ]
  },
  {
   "cell_type": "code",
   "execution_count": 178,
   "id": "25a1d847",
   "metadata": {},
   "outputs": [
    {
     "data": {
      "text/html": [
       "<div>\n",
       "<style scoped>\n",
       "    .dataframe tbody tr th:only-of-type {\n",
       "        vertical-align: middle;\n",
       "    }\n",
       "\n",
       "    .dataframe tbody tr th {\n",
       "        vertical-align: top;\n",
       "    }\n",
       "\n",
       "    .dataframe thead th {\n",
       "        text-align: right;\n",
       "    }\n",
       "</style>\n",
       "<table border=\"1\" class=\"dataframe\">\n",
       "  <thead>\n",
       "    <tr style=\"text-align: right;\">\n",
       "      <th></th>\n",
       "      <th>idx</th>\n",
       "      <th>class</th>\n",
       "      <th>conversation</th>\n",
       "    </tr>\n",
       "  </thead>\n",
       "  <tbody>\n",
       "    <tr>\n",
       "      <th>0</th>\n",
       "      <td>0</td>\n",
       "      <td>협박 대화</td>\n",
       "      <td>지금 너 스스로를 죽여달라고 애원하는 것인가?\\n 아닙니다. 죄송합니다.\\n 죽을 ...</td>\n",
       "    </tr>\n",
       "    <tr>\n",
       "      <th>1</th>\n",
       "      <td>1</td>\n",
       "      <td>협박 대화</td>\n",
       "      <td>길동경찰서입니다.\\n9시 40분 마트에 폭발물을 설치할거다.\\n네?\\n똑바로 들어 ...</td>\n",
       "    </tr>\n",
       "    <tr>\n",
       "      <th>2</th>\n",
       "      <td>2</td>\n",
       "      <td>기타 괴롭힘 대화</td>\n",
       "      <td>너 되게 귀여운거 알지? 나보다 작은 남자는 첨봤어.\\n그만해. 니들 놀리는거 재미...</td>\n",
       "    </tr>\n",
       "    <tr>\n",
       "      <th>3</th>\n",
       "      <td>3</td>\n",
       "      <td>갈취 대화</td>\n",
       "      <td>어이 거기\\n예??\\n너 말이야 너. 이리 오라고\\n무슨 일.\\n너 옷 좋아보인다?...</td>\n",
       "    </tr>\n",
       "    <tr>\n",
       "      <th>4</th>\n",
       "      <td>4</td>\n",
       "      <td>갈취 대화</td>\n",
       "      <td>저기요 혹시 날이 너무 뜨겁잖아요? 저희 회사에서 이 선크림 파는데 한 번 손등에 ...</td>\n",
       "    </tr>\n",
       "  </tbody>\n",
       "</table>\n",
       "</div>"
      ],
      "text/plain": [
       "   idx      class                                       conversation\n",
       "0    0      협박 대화  지금 너 스스로를 죽여달라고 애원하는 것인가?\\n 아닙니다. 죄송합니다.\\n 죽을 ...\n",
       "1    1      협박 대화  길동경찰서입니다.\\n9시 40분 마트에 폭발물을 설치할거다.\\n네?\\n똑바로 들어 ...\n",
       "2    2  기타 괴롭힘 대화  너 되게 귀여운거 알지? 나보다 작은 남자는 첨봤어.\\n그만해. 니들 놀리는거 재미...\n",
       "3    3      갈취 대화  어이 거기\\n예??\\n너 말이야 너. 이리 오라고\\n무슨 일.\\n너 옷 좋아보인다?...\n",
       "4    4      갈취 대화  저기요 혹시 날이 너무 뜨겁잖아요? 저희 회사에서 이 선크림 파는데 한 번 손등에 ..."
      ]
     },
     "execution_count": 178,
     "metadata": {},
     "output_type": "execute_result"
    }
   ],
   "source": [
    "import os\n",
    "import pandas as pd\n",
    "\n",
    "df_path =\"~/aiffel/dktc/data/train.csv\"\n",
    "df = pd.read_csv(df_path)\n",
    "df.head()"
   ]
  },
  {
   "cell_type": "code",
   "execution_count": 179,
   "id": "b1ed8382",
   "metadata": {},
   "outputs": [
    {
     "name": "stdout",
     "output_type": "stream",
     "text": [
      "soynlp                        0.0.493\r\n"
     ]
    }
   ],
   "source": [
    "# !pip install soynlp tqdm\n",
    "!pip list | grep -i soynlp"
   ]
  },
  {
   "cell_type": "markdown",
   "id": "09fec15a",
   "metadata": {},
   "source": [
    "## 1. Preprocessing\n",
    "> https://huggingface.co/beomi/KcELECTRA-base#preprocessing\n"
   ]
  },
  {
   "cell_type": "code",
   "execution_count": 180,
   "id": "e9fa62c5",
   "metadata": {},
   "outputs": [
    {
     "name": "stdout",
     "output_type": "stream",
     "text": [
      "3950\n",
      "3846\n"
     ]
    }
   ],
   "source": [
    "print(len(df))\n",
    "df = df.drop(columns=['idx'])\n",
    "df.drop_duplicates(subset = ['conversation'], inplace = True)\n",
    "print(len(df))"
   ]
  },
  {
   "cell_type": "code",
   "execution_count": 181,
   "id": "a63bd4ef",
   "metadata": {},
   "outputs": [
    {
     "name": "stdout",
     "output_type": "stream",
     "text": [
      "3846\n"
     ]
    },
    {
     "data": {
      "application/vnd.jupyter.widget-view+json": {
       "model_id": "889237cf57c84ffa8d26a4bf9a492e43",
       "version_major": 2,
       "version_minor": 0
      },
      "text/plain": [
       "  0%|          | 0/3846 [00:00<?, ?it/s]"
      ]
     },
     "metadata": {},
     "output_type": "display_data"
    },
    {
     "name": "stdout",
     "output_type": "stream",
     "text": [
      "3846\n"
     ]
    }
   ],
   "source": [
    "import numpy as np\n",
    "from tqdm.notebook import tqdm\n",
    "tqdm.pandas()\n",
    "\n",
    "import re\n",
    "from soynlp.normalizer import repeat_normalize\n",
    "\n",
    "pattern = re.compile(f'[^ .,?!/@$%~％·∼()\\x00-\\x7Fㄱ-ㅣ가-힣]+')\n",
    "url_pattern = re.compile(\n",
    "    r'https?:\\/\\/(www\\.)?[-a-zA-Z0-9@:%._\\+~#=]{1,256}\\.[a-zA-Z0-9()]{1,6}\\b([-a-zA-Z0-9()@:%_\\+.~#?&//=]*)')\n",
    "\n",
    "def preprocess(x): \n",
    "    x = pattern.sub(' ', x)\n",
    "    x = url_pattern.sub('', x)\n",
    "    x = repeat_normalize(x, num_repeats=3)\n",
    "    return x.strip()\n",
    "\n",
    "def postprocess(df):\n",
    "    df.replace('', np.nan, inplace=True)\n",
    "    df.dropna(subset=['conversation'], inplace=True)\n",
    "\n",
    "\n",
    "print(len(df))\n",
    "df['conversation'] = df['conversation'].progress_apply(preprocess)\n",
    "postprocess(df)\n",
    "print(len(df))"
   ]
  },
  {
   "cell_type": "code",
   "execution_count": 182,
   "id": "b5c38198",
   "metadata": {
    "scrolled": true
   },
   "outputs": [
    {
     "data": {
      "text/html": [
       "<div>\n",
       "<style scoped>\n",
       "    .dataframe tbody tr th:only-of-type {\n",
       "        vertical-align: middle;\n",
       "    }\n",
       "\n",
       "    .dataframe tbody tr th {\n",
       "        vertical-align: top;\n",
       "    }\n",
       "\n",
       "    .dataframe thead th {\n",
       "        text-align: right;\n",
       "    }\n",
       "</style>\n",
       "<table border=\"1\" class=\"dataframe\">\n",
       "  <thead>\n",
       "    <tr style=\"text-align: right;\">\n",
       "      <th></th>\n",
       "      <th>conversation</th>\n",
       "    </tr>\n",
       "    <tr>\n",
       "      <th>class</th>\n",
       "      <th></th>\n",
       "    </tr>\n",
       "  </thead>\n",
       "  <tbody>\n",
       "    <tr>\n",
       "      <th>갈취 대화</th>\n",
       "      <td>973</td>\n",
       "    </tr>\n",
       "    <tr>\n",
       "      <th>기타 괴롭힘 대화</th>\n",
       "      <td>1011</td>\n",
       "    </tr>\n",
       "    <tr>\n",
       "      <th>직장 내 괴롭힘 대화</th>\n",
       "      <td>970</td>\n",
       "    </tr>\n",
       "    <tr>\n",
       "      <th>협박 대화</th>\n",
       "      <td>892</td>\n",
       "    </tr>\n",
       "  </tbody>\n",
       "</table>\n",
       "</div>"
      ],
      "text/plain": [
       "             conversation\n",
       "class                    \n",
       "갈취 대화                 973\n",
       "기타 괴롭힘 대화            1011\n",
       "직장 내 괴롭힘 대화           970\n",
       "협박 대화                 892"
      ]
     },
     "execution_count": 182,
     "metadata": {},
     "output_type": "execute_result"
    }
   ],
   "source": [
    "df.groupby('class').count()"
   ]
  },
  {
   "cell_type": "code",
   "execution_count": 183,
   "id": "b58310fa",
   "metadata": {},
   "outputs": [
    {
     "name": "stdout",
     "output_type": "stream",
     "text": [
      "전체 최소 길이 : 41\n",
      "전체 최대 길이 : 874\n",
      "전체 평균 길이 : 225.6916276651066\n",
      "\n",
      "협박 대화 최소 길이 : 57\n",
      "협박 대화 최대 길이 : 818\n",
      "협박 대화 평균 길이 : 243.88677130044843\n",
      "\n",
      "갈취 대화 최소 길이 : 45\n",
      "갈취 대화 최대 길이 : 667\n",
      "갈취 대화 평균 길이 : 214.23021582733813\n",
      "\n",
      "기타 괴롭힘 대화 최소 길이 : 41\n",
      "기타 괴롭힘 대화 최대 길이 : 874\n",
      "기타 괴롭힘 대화 평균 길이 : 211.22551928783383\n",
      "\n",
      "직장 내 괴롭힘 대화 최소 길이 : 41\n",
      "직장 내 괴롭힘 대화 최대 길이 : 843\n",
      "직장 내 괴롭힘 대화 평균 길이 : 235.5340206185567\n",
      "\n"
     ]
    }
   ],
   "source": [
    "import seaborn as sns\n",
    "\n",
    "def min_len(series):\n",
    "    return series.str.len().min()\n",
    "\n",
    "def max_len(series):\n",
    "    return series.str.len().max()\n",
    "\n",
    "def avg_len(series):\n",
    "    return series.str.len().mean()\n",
    "\n",
    "\n",
    "print(f\"전체 최소 길이 : {min_len(df['conversation'])}\")\n",
    "print(f\"전체 최대 길이 : {max_len(df['conversation'])}\")\n",
    "print(f\"전체 평균 길이 : {avg_len(df['conversation'])}\")\n",
    "print()\n",
    "    \n",
    "for cls in ('협박 대화', '갈취 대화', '기타 괴롭힘 대화', '직장 내 괴롭힘 대화'):\n",
    "    cls_data = df[df['class'] == cls]['conversation']\n",
    "    print(f\"{cls} 최소 길이 : {min_len(cls_data)}\")    \n",
    "    print(f\"{cls} 최대 길이 : {max_len(cls_data)}\")\n",
    "    print(f\"{cls} 평균 길이 : {avg_len(cls_data)}\")\n",
    "    print()"
   ]
  },
  {
   "cell_type": "markdown",
   "id": "99a58bcc",
   "metadata": {},
   "source": [
    "#### matplot 폰트 설치"
   ]
  },
  {
   "cell_type": "code",
   "execution_count": 184,
   "id": "fcae3fa5",
   "metadata": {},
   "outputs": [],
   "source": [
    "# !apt-get install -y fonts-nanum"
   ]
  },
  {
   "cell_type": "code",
   "execution_count": 185,
   "id": "6bc0f3b1",
   "metadata": {},
   "outputs": [],
   "source": [
    "import matplotlib.pyplot as plt\n",
    "import matplotlib.font_manager as fm\n",
    "\n",
    "plt.rc('font', family='NanumGothic')"
   ]
  },
  {
   "cell_type": "code",
   "execution_count": 186,
   "id": "16a07507",
   "metadata": {},
   "outputs": [
    {
     "data": {
      "image/png": "[encoded data removed]",
      "text/plain": [
       "<Figure size 1080x360 with 4 Axes>"
      ]
     },
     "metadata": {
      "needs_background": "light"
     },
     "output_type": "display_data"
    }
   ],
   "source": [
    "fig, axes = plt.subplots(nrows=2, ncols=2, figsize=(15, 5))\n",
    "\n",
    "# Plot the histogram of sample lengths\n",
    "axes[0][0].hist([len(s) for s in df['conversation'][df['class']=='협박 대화']], bins=50)\n",
    "axes[0][0].set_xlabel('length of samples')\n",
    "axes[0][0].set_ylabel('number of samples')\n",
    "axes[0][0].set_title('협박 대화')\n",
    "\n",
    "axes[0][1].hist([len(s) for s in df['conversation'][df['class']=='갈취 대화']], bins=50)\n",
    "axes[0][1].set_xlabel('length of samples')\n",
    "axes[0][1].set_ylabel('number of samples')\n",
    "axes[0][1].set_title('갈취 대화')\n",
    "\n",
    "axes[1][0].hist([len(s) for s in df['conversation'][df['class']=='직장 내 괴롭힘 대화']], bins=50)\n",
    "axes[1][0].set_xlabel('length of samples')\n",
    "axes[1][0].set_ylabel('number of samples')\n",
    "axes[1][0].set_title('직장 내 괴롭힘 대화')\n",
    "\n",
    "axes[1][1].hist([len(s) for s in df['conversation'][df['class']=='기타 괴롭힘 대화']\n",
    "], bins=50)\n",
    "axes[1][1].set_xlabel('length of samples')\n",
    "axes[1][1].set_ylabel('number of samples')\n",
    "axes[1][1].set_title('기타 괴롭힘 대화')\n",
    "\n",
    "plt.subplots_adjust(wspace=0.3, hspace=0.5)\n",
    "plt.show()"
   ]
  },
  {
   "cell_type": "markdown",
   "id": "33b0eca0",
   "metadata": {},
   "source": [
    "# 일상대화\n",
    "> https://aihub.or.kr/aihubdata/data/view.do?currMenu=115&topMenu=100&aihubDataSe=data&dataSetSn=543\n",
    "\n",
    "1. 파일 하나를 하나의 communication column으로 사용한다.\n",
    "2. 서로 다른 발화자의 경우 \\n으로 이어 붙이고, 이외의 \\n는 모두 제거한다.\n",
    "\n",
    "\n",
    "> curl -o \"aihubshell\" https://api.aihub.or.kr/api/aihubshell.do\n",
    "\n",
    "```sh\n",
    "> ls\n",
    "KAKAO_532_08.txt  KAKAO_621_20.txt  KAKAO_713_12.txt  KAKAO_803_04.txt  KAKAO_892_16.txt\n",
    "KAKAO_532_09.txt  KAKAO_622_01.txt  KAKAO_713_13.txt  KAKAO_803_05.txt  KAKAO_892_17.txt\n",
    "KAKAO_532_10.txt  KAKAO_622_02.txt  KAKAO_713_14.txt  KAKAO_803_06.txt  KAKAO_892_18.txt\n",
    "KAKAO_532_11.txt  KAKAO_622_03.txt  KAKAO_713_15.txt  KAKAO_803_07.txt  KAKAO_892_19.txt\n",
    "KAKAO_532_12.txt  KAKAO_622_04.txt  KAKAO_713_16.txt  KAKAO_803_08.txt  KAKAO_892_20.txt\n",
    "KAKAO_532_13.txt  KAKAO_622_05.txt  KAKAO_713_17.txt  KAKAO_803_09.txt  KAKAO_893_01.txt\n",
    "KAKAO_532_14.txt  KAKAO_622_06.txt  KAKAO_713_18.txt  KAKAO_803_10.txt  KAKAO_893_02.txt\n",
    "KAKAO_532_15.txt  KAKAO_622_07.txt  KAKAO_713_19.txt  KAKAO_803_11.txt  KAKAO_893_03.txt\n",
    "KAKAO_532_16.txt  KAKAO_622_08.txt  KAKAO_713_20.txt  KAKAO_803_12.txt  KAKAO_893_04.txt\n",
    "KAKAO_532_17.txt  KAKAO_622_09.txt  KAKAO_714_01.txt  KAKAO_803_13.txt  KAKAO_893_05.txt\n",
    "KAKAO_532_18.txt  KAKAO_622_10.txt  KAKAO_714_02.txt  KAKAO_803_14.txt  KAKAO_893_06.txt\n",
    "KAKAO_532_19.txt  KAKAO_622_11.txt  KAKAO_714_03.txt  KAKAO_803_15.txt  KAKAO_893_07.txt\n",
    "```\n",
    "\n",
    "#### KAKAO_897_05.txt\n",
    "```\n",
    "1 : 언니 혹시 피엑스 가봤어?\n",
    "2 : 당연하지 거기 엄청 유명하잖아\n",
    "1 : 헐 키키 대박 어떻게 갔었어?\n",
    "2 : 아는 분 아빠가 직군이셔 하하\n",
    "1 : 아하! 가서 달팽이크림 쓸어왔겠네?\n",
    "2 : 무거워서 들 수 있는 만큼 사온 거 같아\n",
    "1 : 거기 냉장식품도 많다던데?\n",
    "1 : 치킨이 유명해 키키\n",
    "2 : 맞아 크림치킨이였나?\n",
    "2 : 냉동 피자도 팔아 거기 키키\n",
    "1 : 어 맞아 키키 그리고 과자가 엄청 싸더라\n",
    "2 : 편의점 1500원이 거기 500원이더라...\n",
    "1 : 이야... 언니 우리 입대할까? 키키\n",
    "2 : 내 인생 망하는 지름길일 듯... [이모티콘]\n",
    "1 : 아 그거 킹정 키키 절대 안 가\n",
    "2 : 그냥 거기 친구 만들어서 맨날 방문할래\n",
    "1 : 아니면 남편으로는 어때? 키키\n",
    "2 : 어 난 그닥... 결혼 안 할려고 ^^\n",
    "```\n",
    "\n",
    "```py\n",
    "import multiprocessing\n",
    "import os\n",
    "\n",
    "import pandas as pd\n",
    "\n",
    "txt_files = [f for f in os.listdir() if f.endswith(\".txt\")]\n",
    "output_file = \"output.csv\"\n",
    "\n",
    "\n",
    "def process_file(file_path):\n",
    "    try:\n",
    "        # 파일 읽기\n",
    "        with open(file_path, \"r\", encoding=\"utf-8\") as file:\n",
    "            lines = file.readlines()\n",
    "\n",
    "        communication = \"\"\n",
    "        current_speaker = None\n",
    "        for line in lines:\n",
    "            if line.strip():\n",
    "                speaker, message = line.split(\":\", 1)\n",
    "                speaker = int(speaker.strip())\n",
    "                message = message.strip().replace(\"\\n\", \" \")\n",
    "\n",
    "                if current_speaker is None:\n",
    "                    current_speaker = speaker\n",
    "                    communication += message\n",
    "                elif speaker == current_speaker:\n",
    "                    communication += r\". \" + message\n",
    "                else:\n",
    "                    communication += r\"\\n\" + message\n",
    "                    current_speaker = speaker\n",
    "\n",
    "        # 뮤텍스를 사용하여 CSV 파일에 기록\n",
    "        with lock:\n",
    "            df = pd.DataFrame([{\"communication\": communication}])\n",
    "            if not os.path.exists(output_file):\n",
    "                df.to_csv(output_file, index=False, encoding=\"utf-8-sig\")\n",
    "            else:\n",
    "                df.to_csv(\n",
    "                    output_file,\n",
    "                    mode=\"a\",\n",
    "                    header=False,\n",
    "                    index=False,\n",
    "                    encoding=\"utf-8-sig\",\n",
    "                )\n",
    "\n",
    "    except ValueError:\n",
    "        # When split error occurs, pass\n",
    "        pass\n",
    "\n",
    "\n",
    "def initialize_lock(l):\n",
    "    global lock\n",
    "    lock = l\n",
    "\n",
    "\n",
    "if __name__ == \"__main__\":\n",
    "    lock = multiprocessing.Lock()\n",
    "\n",
    "    with multiprocessing.Pool(\n",
    "        processes=min(multiprocessing.cpu_count(), 8),\n",
    "        initializer=initialize_lock,\n",
    "        initargs=(lock,),\n",
    "    ) as pool:\n",
    "        pool.map(process_file, txt_files)\n",
    "```"
   ]
  },
  {
   "cell_type": "code",
   "execution_count": 187,
   "id": "c520d26f",
   "metadata": {},
   "outputs": [
    {
     "data": {
      "text/html": [
       "<div>\n",
       "<style scoped>\n",
       "    .dataframe tbody tr th:only-of-type {\n",
       "        vertical-align: middle;\n",
       "    }\n",
       "\n",
       "    .dataframe tbody tr th {\n",
       "        vertical-align: top;\n",
       "    }\n",
       "\n",
       "    .dataframe thead th {\n",
       "        text-align: right;\n",
       "    }\n",
       "</style>\n",
       "<table border=\"1\" class=\"dataframe\">\n",
       "  <thead>\n",
       "    <tr style=\"text-align: right;\">\n",
       "      <th></th>\n",
       "      <th>communication</th>\n",
       "    </tr>\n",
       "  </thead>\n",
       "  <tbody>\n",
       "    <tr>\n",
       "      <th>0</th>\n",
       "      <td>왜 전화 했어?\\n동생한테 연락 온 거 있니?\\n없엉 왜? 무슨 일 있어?\\n아니 ...</td>\n",
       "    </tr>\n",
       "    <tr>\n",
       "      <th>1</th>\n",
       "      <td>회사에 업무 보는 건 편하나?\\n네 적응돼서 괜찮아서 하하\\n수습 기간도 있제?\\n...</td>\n",
       "    </tr>\n",
       "    <tr>\n",
       "      <th>2</th>\n",
       "      <td>너 웹툰 요일마다 보는 거 정해져 있어?\\n음 보는 게 정해져 있긴 하지?\\n요일마...</td>\n",
       "    </tr>\n",
       "    <tr>\n",
       "      <th>3</th>\n",
       "      <td>자기야 자기가 알아봤던 진영 아파트 어떻게 생각해?\\n주거는 괜찮을 거 같긴 한데....</td>\n",
       "    </tr>\n",
       "    <tr>\n",
       "      <th>4</th>\n",
       "      <td>야 요즘에는 니 몇 시쯤에 자노 키키 잠 잘 자나\\n야... 말도 마라 내 요즘 1...</td>\n",
       "    </tr>\n",
       "  </tbody>\n",
       "</table>\n",
       "</div>"
      ],
      "text/plain": [
       "                                       communication\n",
       "0  왜 전화 했어?\\n동생한테 연락 온 거 있니?\\n없엉 왜? 무슨 일 있어?\\n아니 ...\n",
       "1  회사에 업무 보는 건 편하나?\\n네 적응돼서 괜찮아서 하하\\n수습 기간도 있제?\\n...\n",
       "2  너 웹툰 요일마다 보는 거 정해져 있어?\\n음 보는 게 정해져 있긴 하지?\\n요일마...\n",
       "3  자기야 자기가 알아봤던 진영 아파트 어떻게 생각해?\\n주거는 괜찮을 거 같긴 한데....\n",
       "4  야 요즘에는 니 몇 시쯤에 자노 키키 잠 잘 자나\\n야... 말도 마라 내 요즘 1..."
      ]
     },
     "execution_count": 187,
     "metadata": {},
     "output_type": "execute_result"
    }
   ],
   "source": [
    "import os\n",
    "import pandas as pd\n",
    "\n",
    "\n",
    "raw_normal = pd.read_csv(\"./normal_communication.csv\")\n",
    "raw_normal.head()"
   ]
  },
  {
   "cell_type": "code",
   "execution_count": 188,
   "id": "60ab971a",
   "metadata": {},
   "outputs": [
    {
     "data": {
      "application/vnd.jupyter.widget-view+json": {
       "model_id": "a93362e8c0c44532a029b5d099f080b0",
       "version_major": 2,
       "version_minor": 0
      },
      "text/plain": [
       "  0%|          | 0/8877 [00:00<?, ?it/s]"
      ]
     },
     "metadata": {},
     "output_type": "display_data"
    },
    {
     "name": "stdout",
     "output_type": "stream",
     "text": [
      "일반대화 최소 길이 : 25\n",
      "일반대화 최대 길이 : 1421\n",
      "일반대화 평균 길이 : 501.7731215500732\n"
     ]
    }
   ],
   "source": [
    "raw_normal.drop_duplicates(subset = ['communication'], inplace = True)\n",
    "raw_normal['communication'] = raw_normal['communication'].progress_apply(preprocess)\n",
    "\n",
    "raw_normal.replace('', np.nan, inplace=True)\n",
    "raw_normal.dropna(subset=['communication'], inplace=True)\n",
    "print(f\"일반대화 최소 길이 : {min_len(raw_normal['communication'])}\")\n",
    "print(f\"일반대화 최대 길이 : {max_len(raw_normal['communication'])}\")\n",
    "print(f\"일반대화 평균 길이 : {avg_len(raw_normal['communication'])}\")"
   ]
  },
  {
   "cell_type": "code",
   "execution_count": 189,
   "id": "6c878216",
   "metadata": {},
   "outputs": [
    {
     "data": {
      "image/png": "[encoded data removed]",
      "text/plain": [
       "<Figure size 720x432 with 1 Axes>"
      ]
     },
     "metadata": {
      "needs_background": "light"
     },
     "output_type": "display_data"
    }
   ],
   "source": [
    "raw_normal['length'] = raw_normal['communication'].str.len()\n",
    "\n",
    "# Plot histogram using Seaborn\n",
    "plt.figure(figsize=(10, 6))\n",
    "sns.histplot(raw_normal['length'], bins=30, kde=True)\n",
    "plt.title('Distribution of Communication Lengths')\n",
    "plt.xlabel('Length of Communication')\n",
    "plt.ylabel('Frequency')\n",
    "plt.show()"
   ]
  },
  {
   "cell_type": "markdown",
   "id": "51c717ea",
   "metadata": {},
   "source": [
    "# 일상 대화 + 비정상대화\n",
    "\n",
    "1. 일상대화 갯수 맞추기\n",
    "2. 일상대화 길이 맞추기(비정상대화 평균길이)"
   ]
  },
  {
   "cell_type": "code",
   "execution_count": 190,
   "id": "df2dc3ee",
   "metadata": {},
   "outputs": [],
   "source": [
    "df['length'] = df['conversation'].str.len()"
   ]
  },
  {
   "cell_type": "code",
   "execution_count": 191,
   "id": "dd83b497",
   "metadata": {},
   "outputs": [
    {
     "name": "stdout",
     "output_type": "stream",
     "text": [
      "3293 3527\n"
     ]
    }
   ],
   "source": [
    "min_length = 100\n",
    "optimal_length = 430\n",
    "\n",
    "normal = raw_normal[(raw_normal['length'] <= optimal_length) & (raw_normal['length'] > min_length)]\n",
    "abnormal = df[(df['length'] <= optimal_length) & (df['length'] > min_length)]\n",
    "\n",
    "print(len(normal), len(abnormal))"
   ]
  },
  {
   "cell_type": "code",
   "execution_count": 192,
   "id": "85ab7382",
   "metadata": {},
   "outputs": [
    {
     "data": {
      "text/html": [
       "<div>\n",
       "<style scoped>\n",
       "    .dataframe tbody tr th:only-of-type {\n",
       "        vertical-align: middle;\n",
       "    }\n",
       "\n",
       "    .dataframe tbody tr th {\n",
       "        vertical-align: top;\n",
       "    }\n",
       "\n",
       "    .dataframe thead th {\n",
       "        text-align: right;\n",
       "    }\n",
       "</style>\n",
       "<table border=\"1\" class=\"dataframe\">\n",
       "  <thead>\n",
       "    <tr style=\"text-align: right;\">\n",
       "      <th></th>\n",
       "      <th>class</th>\n",
       "      <th>conversation</th>\n",
       "      <th>length</th>\n",
       "    </tr>\n",
       "  </thead>\n",
       "  <tbody>\n",
       "    <tr>\n",
       "      <th>765</th>\n",
       "      <td>직장 내 괴롭힘 대화</td>\n",
       "      <td>화장을 한거야 만거야 했는데요. 세상에 이걸 화장이라고 한거야? .죄송합니다 과장님...</td>\n",
       "      <td>139</td>\n",
       "    </tr>\n",
       "    <tr>\n",
       "      <th>2044</th>\n",
       "      <td>협박 대화</td>\n",
       "      <td>나 이제 이대로 같이 못 살아. 무슨 일이야? 이렇게 거지같은 환경에서 더 이상 살...</td>\n",
       "      <td>260</td>\n",
       "    </tr>\n",
       "    <tr>\n",
       "      <th>1960</th>\n",
       "      <td>기타 괴롭힘 대화</td>\n",
       "      <td>야 이거 따라 해봐 목도리도마뱀 재밌겠다 하기 싫어. 안 할래. 뭐?? 하기 싫어?...</td>\n",
       "      <td>200</td>\n",
       "    </tr>\n",
       "    <tr>\n",
       "      <th>2770</th>\n",
       "      <td>협박 대화</td>\n",
       "      <td>너 지금 나 째려봤냐? 아니요. 아니긴 뭐가 아니야 나 기분나쁘게 째려봤잖아 아닙니...</td>\n",
       "      <td>185</td>\n",
       "    </tr>\n",
       "    <tr>\n",
       "      <th>2874</th>\n",
       "      <td>협박 대화</td>\n",
       "      <td>내일까지 해결하는 게 좋을거야 불가능합니다. 시간이 너무 촉박해요 촉박이라. 하루만...</td>\n",
       "      <td>193</td>\n",
       "    </tr>\n",
       "  </tbody>\n",
       "</table>\n",
       "</div>"
      ],
      "text/plain": [
       "            class                                       conversation  length\n",
       "765   직장 내 괴롭힘 대화  화장을 한거야 만거야 했는데요. 세상에 이걸 화장이라고 한거야? .죄송합니다 과장님...     139\n",
       "2044        협박 대화  나 이제 이대로 같이 못 살아. 무슨 일이야? 이렇게 거지같은 환경에서 더 이상 살...     260\n",
       "1960    기타 괴롭힘 대화  야 이거 따라 해봐 목도리도마뱀 재밌겠다 하기 싫어. 안 할래. 뭐?? 하기 싫어?...     200\n",
       "2770        협박 대화  너 지금 나 째려봤냐? 아니요. 아니긴 뭐가 아니야 나 기분나쁘게 째려봤잖아 아닙니...     185\n",
       "2874        협박 대화  내일까지 해결하는 게 좋을거야 불가능합니다. 시간이 너무 촉박해요 촉박이라. 하루만...     193"
      ]
     },
     "execution_count": 192,
     "metadata": {},
     "output_type": "execute_result"
    }
   ],
   "source": [
    "abnormal.sample(5)"
   ]
  },
  {
   "cell_type": "code",
   "execution_count": 193,
   "id": "619b2f24",
   "metadata": {},
   "outputs": [
    {
     "data": {
      "text/html": [
       "<div>\n",
       "<style scoped>\n",
       "    .dataframe tbody tr th:only-of-type {\n",
       "        vertical-align: middle;\n",
       "    }\n",
       "\n",
       "    .dataframe tbody tr th {\n",
       "        vertical-align: top;\n",
       "    }\n",
       "\n",
       "    .dataframe thead th {\n",
       "        text-align: right;\n",
       "    }\n",
       "</style>\n",
       "<table border=\"1\" class=\"dataframe\">\n",
       "  <thead>\n",
       "    <tr style=\"text-align: right;\">\n",
       "      <th></th>\n",
       "      <th>communication</th>\n",
       "      <th>length</th>\n",
       "    </tr>\n",
       "  </thead>\n",
       "  <tbody>\n",
       "    <tr>\n",
       "      <th>701</th>\n",
       "      <td>부스터샷을 맞고 난린데? 난 아직 1회도 안 맞음...\\n부스터샷? 그게 뭐야?\\n...</td>\n",
       "      <td>400</td>\n",
       "    </tr>\n",
       "    <tr>\n",
       "      <th>470</th>\n",
       "      <td>요즘 전기차 되게 많이 보이네\\n전기차 좋지 않냐 키키 조용한 것이 키키\\n근데 조...</td>\n",
       "      <td>385</td>\n",
       "    </tr>\n",
       "    <tr>\n",
       "      <th>1629</th>\n",
       "      <td>닌 강아지 좋아하나?\\n저 강아지 알레르기 있습니다 \\n키키 아 진짜? 그런 알레르...</td>\n",
       "      <td>396</td>\n",
       "    </tr>\n",
       "    <tr>\n",
       "      <th>5176</th>\n",
       "      <td>내일 주말이니깐 오랜만에 대청소나 하자\\n좋은 생각인데 난 낼 출근이라 곤란한데\\n...</td>\n",
       "      <td>392</td>\n",
       "    </tr>\n",
       "    <tr>\n",
       "      <th>6579</th>\n",
       "      <td>내 남친 오늘 고양이 주워왔어 키키\\n헉 정말 어디서 주었대?\\n집 옆 주차장에서 ...</td>\n",
       "      <td>338</td>\n",
       "    </tr>\n",
       "  </tbody>\n",
       "</table>\n",
       "</div>"
      ],
      "text/plain": [
       "                                          communication  length\n",
       "701   부스터샷을 맞고 난린데? 난 아직 1회도 안 맞음...\\n부스터샷? 그게 뭐야?\\n...     400\n",
       "470   요즘 전기차 되게 많이 보이네\\n전기차 좋지 않냐 키키 조용한 것이 키키\\n근데 조...     385\n",
       "1629  닌 강아지 좋아하나?\\n저 강아지 알레르기 있습니다 \\n키키 아 진짜? 그런 알레르...     396\n",
       "5176  내일 주말이니깐 오랜만에 대청소나 하자\\n좋은 생각인데 난 낼 출근이라 곤란한데\\n...     392\n",
       "6579  내 남친 오늘 고양이 주워왔어 키키\\n헉 정말 어디서 주었대?\\n집 옆 주차장에서 ...     338"
      ]
     },
     "execution_count": 193,
     "metadata": {},
     "output_type": "execute_result"
    }
   ],
   "source": [
    "normal.sample(5)"
   ]
  },
  {
   "cell_type": "code",
   "execution_count": 194,
   "id": "045fe74f",
   "metadata": {},
   "outputs": [
    {
     "data": {
      "application/vnd.jupyter.widget-view+json": {
       "model_id": "2250e491652b44deaf02881b42f6e5e1",
       "version_major": 2,
       "version_minor": 0
      },
      "text/plain": [
       "  0%|          | 0/3527 [00:00<?, ?it/s]"
      ]
     },
     "metadata": {},
     "output_type": "display_data"
    }
   ],
   "source": [
    "def check_class(it):\n",
    "    if '협박' in it:\n",
    "        return 1\n",
    "    elif '갈취' in it:\n",
    "        return 2\n",
    "    elif '직장 내 괴롭힘' in it:\n",
    "        return 3\n",
    "    elif '기타 괴롭힘' in it:\n",
    "        return 4\n",
    "\n",
    "# pandas is unsure whether it's modifying a view or a copy.\n",
    "abnormal = abnormal.copy()\n",
    "normal = normal.copy()\n",
    "\n",
    "# Apply check_class using .loc\n",
    "abnormal.loc[:, 'class'] = abnormal['class'].progress_apply(check_class)\n",
    "normal.loc[:, 'class'] = 0\n",
    "\n",
    "abnormal.loc[:, 'text'] = abnormal['conversation']\n",
    "normal.loc[:, 'text'] = normal['communication']\n",
    "\n",
    "# Concatenate DataFrames\n",
    "df = pd.concat([abnormal[['class', 'text']], normal[['class', 'text']]], ignore_index=True)"
   ]
  },
  {
   "cell_type": "code",
   "execution_count": 195,
   "id": "7d217bed",
   "metadata": {},
   "outputs": [],
   "source": [
    "df.to_csv('result.csv', index=False)"
   ]
  },
  {
   "cell_type": "code",
   "execution_count": 196,
   "id": "b2072644",
   "metadata": {},
   "outputs": [
    {
     "data": {
      "image/png": "[encoded data removed]",
      "text/plain": [
       "<Figure size 576x432 with 1 Axes>"
      ]
     },
     "metadata": {
      "needs_background": "light"
     },
     "output_type": "display_data"
    }
   ],
   "source": [
    "# 클래스별 개수(count) 계산\n",
    "class_counts = df['class'].value_counts()\n",
    "\n",
    "# 시각화를 위한 막대 차트 그리기\n",
    "plt.figure(figsize=(8, 6))  # 그래프 크기 설정 (선택적)\n",
    "\n",
    "# seaborn의 barplot을 사용하여 막대 차트 그리기\n",
    "sns.barplot(x=class_counts.index, y=class_counts.values)\n",
    "\n",
    "# x축 레이블 추가\n",
    "plt.xlabel('Class')\n",
    "\n",
    "# y축 레이블 추가\n",
    "plt.ylabel('Count')\n",
    "\n",
    "# 그래프 제목 추가\n",
    "plt.title('Bar Chart of Classes')\n",
    "\n",
    "# 그래프 보여주기\n",
    "plt.show()"
   ]
  },
  {
   "cell_type": "code",
   "execution_count": null,
   "id": "19dbeb22",
   "metadata": {},
   "outputs": [],
   "source": []
  }
 ],
 "metadata": {
  "kernelspec": {
   "display_name": "Python 3 (ipykernel)",
   "language": "python",
   "name": "python3"
  },
  "language_info": {
   "codemirror_mode": {
    "name": "ipython",
    "version": 3
   },
   "file_extension": ".py",
   "mimetype": "text/x-python",
   "name": "python",
   "nbconvert_exporter": "python",
   "pygments_lexer": "ipython3",
   "version": "3.9.7"
  }
 },
 "nbformat": 4,
 "nbformat_minor": 5
}
